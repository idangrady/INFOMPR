{
 "cells": [
  {
   "cell_type": "code",
   "execution_count": 100,
   "metadata": {},
   "outputs": [],
   "source": [
    "import tensorflow as tf\n",
    "from tensorflow import keras \n",
    "from tensorflow.keras.layers import Input, LSTM, Attention, Embedding, Dense, Concatenate, TimeDistributed   #Layers required to implement the model\n",
    "# Try out"
   ]
  },
  {
   "cell_type": "code",
   "execution_count": 101,
   "metadata": {},
   "outputs": [],
   "source": [
    "\n",
    "import numpy as np   #Package for scientific computing and dealing with arrays\n",
    "import pandas as pd  #Package providing fast, flexible and expressive data structures\n",
    "import re            #re stands for RegularExpression providing full support for Perl-like Regular Expressions in Python\n",
    "from bs4 import BeautifulSoup   #Package for pulling data out of HTML and XML files\n",
    "from keras.preprocessing.sequence import pad_sequences  #For Padding the seqences to same length\n",
    "from nltk.corpus import stopwords   #For removing filler words\n",
    "from tensorflow.keras.layers import Input, LSTM, Attention, Embedding, Dense, Concatenate, TimeDistributed   #Layers required to implement the model\n",
    "from tensorflow.keras.models import Model  #Helps in grouping the layers into an object with training and inference features\n",
    "from tensorflow.keras.callbacks import EarlyStopping  #Allows training the model on large no. of training epochs & stop once the performance stops improving on validation dataset\n",
    "from os import listdir\n",
    "import string"
   ]
  },
  {
   "cell_type": "code",
   "execution_count": 102,
   "metadata": {
    "tags": []
   },
   "outputs": [
    {
     "output_type": "stream",
     "name": "stdout",
     "text": "Loaded Stories 1200\n"
    }
   ],
   "source": [
    "\n",
    "# load doc into memory\n",
    "def load_doc(filename):\n",
    "\t# open the file as read only\n",
    "\tfile = open(filename, encoding='utf-8')\n",
    "\t# read all text\n",
    "\ttext = file.read()\n",
    "\t# close the file\n",
    "\tfile.close()\n",
    "\treturn text\n",
    "\n",
    "# split a document into news story and highlights\n",
    "def split_story(doc):\n",
    "\t# find first highlight\n",
    "\tindex = doc.find('@highlight')\n",
    "\t# split into story and highlights\n",
    "\tstory, highlights = doc[:index], doc[index:].split('@highlight')\n",
    "\t# strip extra white space around each highlight\n",
    "\thighlights = [h.strip() for h in highlights if len(h) > 0]\n",
    "\treturn story, highlights\n",
    "\n",
    "# load all stories in a directory\n",
    "def load_stories(directory):\n",
    "\tstories = list()\n",
    "\tfor name in listdir(directory):\n",
    "\t\tfilename = directory + '/' + name\n",
    "\t\t# load document\n",
    "\t\tdoc = load_doc(filename)\n",
    "\t\t# split into story and highlights\n",
    "\t\tstory, highlights = split_story(doc)\n",
    "\t\t# store\n",
    "\t\tstories.append({'story':story, 'highlights':highlights})\n",
    "\treturn stories\n",
    "\n",
    "# clean a list of lines\n",
    "def clean_lines(lines):\n",
    "\tcleaned = list()\n",
    "\t# prepare a translation table to remove punctuation\n",
    "\ttable = str.maketrans('', '', string.punctuation)\n",
    "\tfor line in lines:\n",
    "\t\t# strip source cnn office if it exists\n",
    "\t\tindex = line.find('(CNN) -- ')\n",
    "\t\tif index > -1:\n",
    "\t\t\tline = line[index+len('(CNN)'):]\n",
    "\t\t# tokenize on white space\n",
    "\t\tline = line.split()\n",
    "\t\t# convert to lower case\n",
    "\t\tline = [word.lower() for word in line]\n",
    "\t\t# remove punctuation from each token\n",
    "\t\tline = [w.translate(table) for w in line]\n",
    "\t\t# remove tokens with numbers in them\n",
    "\t\tline = [word for word in line if word.isalpha()]\n",
    "\t\t# store as string\n",
    "\t\tcleaned.append(' '.join(line))\n",
    "\t# remove empty strings\n",
    "\tcleaned = [c for c in cleaned if len(c) > 0]\n",
    "\treturn cleaned\n",
    "\n",
    "# load stories\n",
    "directory = 'cnn/'\n",
    "stories = load_stories(directory)\n",
    "print('Loaded Stories %d' % len(stories))\n",
    "\n",
    "# clean stories\n",
    "for example in stories:\n",
    "\texample['story'] = clean_lines(example['story'].split('\\n'))\n",
    "\texample['highlights'] = clean_lines(example['highlights'])"
   ]
  },
  {
   "cell_type": "code",
   "execution_count": 103,
   "metadata": {},
   "outputs": [],
   "source": [
    "# save to file\n",
    "from pickle import dump\n",
    "dump(stories, open('cnn_dataset.pkl', 'wb'))"
   ]
  },
  {
   "cell_type": "code",
   "execution_count": 104,
   "metadata": {
    "tags": []
   },
   "outputs": [
    {
     "output_type": "stream",
     "name": "stdout",
     "text": "Loaded Stories 1200\n"
    }
   ],
   "source": [
    "from pickle import load\n",
    "\n",
    "# load from file\n",
    "stories = load(open('cnn_dataset.pkl', 'rb'))\n",
    "print('Loaded Stories %d' % len(stories))"
   ]
  },
  {
   "cell_type": "code",
   "execution_count": 105,
   "metadata": {},
   "outputs": [],
   "source": [
    "from keras.preprocessing.text import Tokenizer \n",
    "from keras.preprocessing.sequence import pad_sequences\n",
    "from keras.layers import RepeatVector\n"
   ]
  },
  {
   "cell_type": "code",
   "execution_count": 106,
   "metadata": {},
   "outputs": [
    {
     "output_type": "execute_result",
     "data": {
      "text/plain": "1200"
     },
     "metadata": {},
     "execution_count": 106
    }
   ],
   "source": [
    "len(stories)"
   ]
  },
  {
   "cell_type": "code",
   "execution_count": 107,
   "metadata": {},
   "outputs": [
    {
     "output_type": "execute_result",
     "data": {
      "text/plain": "['its one of the smallest countries in africa and one of the poorest in the world but burundi is showing the way in the development of tennis on the continent',\n 'ravaged by civil war since gaining independence in the its relative recent political stability has helped it embrace a sport that is battling to maintain its foothold in the planets secondlargest land space',\n 'africa has not produced a grand slam singles finalist since kevin curren at the wimbledon championships while wayne ferreira reached the semis of the australian open for the second time in and former world no amanda coetzer was similarly successful in',\n 'kevin anderson is currently the continents topranked player at no and yet another south african chanelle scheepers is its top woman at',\n 'but the future may lie in a country which is rebuilding itself after conflicts which saw more than half a million people killed and mass migrations of its fleeing population',\n 'burundi will soon open africas third highperformance tennis center after pretoria and senegals dakar plus host a series of top agegroup tournaments and an international event',\n 'we would like every country in africa to replicate the experience of burundi the international tennis federations development projects administrator frank couraud told cnn',\n 'they are not rich but they really wanted to have this center i met everyone from the government the vicepresident the minister of sport the olympic committee they value tennis very much',\n 'its not an attitude thats prevalent in africa where tennis ranks below sports such as football and athletics when it comes to government funding',\n 'the itf has three development officers across the continent and supports national tennis federations with equipment and skills programs aimed particularly at young children but its resources are limited',\n 'its very difficult to fight against football its the sport in africa and they are doing so well couraud said in a country like kenya if you speak to the olympic committee for funding for coaches they say our priorities are track and field because this is where we get the medals',\n 'we need more funding we would love to see the governments being more committed to developing the game if you look at our budget million each year its what soccers ruling body fifa gives to maybe one or two nations theres a huge discrepancy',\n 'burundi has also produced a potential future star in hassan ndayishimiye',\n 'the was included in the itfs grand slam team for wimbledon this year and surprisingly made it to the second round of the boys singles',\n 'ranked only in the juniors he received a wildcard into the qualifying draw and beat three players well above him to progress into the main section',\n 'its a small step but has earned him a place in the team to tour north america ahead of septembers us open along with madagascars zarah razafimahatratra whos in her second year with the program',\n 'with tunisias ons jabeur winning the french open junior girls title having been runnerup in paris last year there are signs that the itfs development work in africa is producing results',\n 'we have to focus on these players who have got through the systems who are very talented who have big hearts couraud said when you see hassan or zarah on the court they give they work very hard we give them the right opportunity now so one day they become professional tennis players and then suddenly other african kids will relate to these players',\n 'when yannick noah won the french open in in cameroon and many countries kids identified and wanted to play tennis because they saw yannick winning even to have players in the top on the professional circuit im sure this is going to have a positive effect',\n 'but its a huge step from being a good junior to a successful professional especially in a place where travel and equipment are more expensive than the us or europe',\n 'if you want to buy equipment in africa sometimes a city doesnt even have a sports shop that sells rackets if they do its three times the price in europe couraud said',\n 'the frenchman estimated that a junior might have only a chance of making it and it could take at least four years to crack the top in the seniors',\n 'it can cost a year to fund top coaching and tournament travel so the best option for african players for those who have adequate schooling has traditionally been to win a college scholarship in the united states',\n 'that was andersons route following the likes of compatriot liezel huber and zimbabwes black siblings byron and wayne who won grand slam titles in doubles events as has their sister cara',\n 'its a very good option one of the problems of being in south africa is were pretty far from the tennis scene the amount of flying youre going to be doing the expense of that is pretty high anderson told cnn',\n 'recently a lot of juniors have ended up going to college in the states there are a lot of tournaments there you can play a lot of matches in the spring and during the summer you can actually go and play in the professional tournaments',\n 'the now based in chicago won his first atp tour title in february at his home sa open which returned to the mens circuit in after a absence',\n 'he said the tournament has provided muchneeded visibility for tennis in south africa where rugby cricket soccer and golf are dominant',\n 'the toughest thing is a lack of quality exposure a lot of south african players are pretty sheltered when they go out there for the first time anderson said',\n 'for myself it took me quite a few years to feel completely comfortable regardless of who i was playing you dont always know the person and its easy to build them up in your eyes youve got to play some guy whos got two coaches and an administrator and youre there by yourself sometimes its pretty daunting',\n 'while anderson believes africa needs more highprofile singles players like curren ferreira and coetzer to grow the game his former compatriot huber is not so sure that it will change the status quo',\n 'born in durban she went to the van der meer academy in hilton head south carolina at the age of in after being frustrated by her lack of opportunities back home',\n 'i was already playing an age group up and winning those tournaments and the federation didnt have any more money to send us anywhere the us citizen said',\n 'it was an unfortunate time it was around when apartheid ended and if anything it should have been a time when south africa got the boom but really it was society trying to figure it out where do we stand where do we fit in',\n 'it was a confusing time a lot of people were let go of their jobs and other people were hired and tennis in south africa went through a dip there',\n 'huber was able to take up the academy place only after its owner dennis van der meer offered her a cutprice rate of a week and even then her father had to beg the air fare from a local businessman',\n 'in south africa i dont think they are looking at it as a business thats kind of what hurts the most said the who has won six grand slam doubles titles and been ranked no in the discipline',\n 'when wes moodie and i won wimbledon doubles titles in i actually thought it would change tennis in south africa nothing changed maybe theres more important things to spend money on maybe tennis is not important',\n 'maybe its more important for the government to build schools im not there so im not sure why tennis is not getting funding but it shows',\n 'her disappointment with the tennis authorities in her former homeland grew when they refused to pay for her plane ticket for an important fed cup teams match',\n 'we had the opportunity to get back in the world group and they didnt pay my ticket said huber who has since represented the us at the olympics and in fed cup we had amanda coetzer in the at the time but having a good singles player didnt raise the profile i dont know what it will take',\n 'huber has sponsored an girls tournament in south africa for almost a decade and has offered to train players for free at the tennis ranch she runs in texas with her husband tony but has been disappointed with the response from south african tennis',\n 'in four years weve had three kids over we were there south africa in march and did a clinic for kids it was a big disappointment we thought we might see the next ferreira or coetzer but the talent wasnt there she said',\n 'i thought it would be a huge event wanting to give something back but the organization just wasnt there i ended up using some of the balls i brought back from australia the facilities are the same as when i grew up its an eyeopener that it hasnt changed']"
     },
     "metadata": {},
     "execution_count": 107
    }
   ],
   "source": [
    "(stories[0]['story'])"
   ]
  },
  {
   "cell_type": "code",
   "execution_count": 108,
   "metadata": {},
   "outputs": [],
   "source": [
    "#Preprocessing\n",
    "\n",
    "#This the dictionary used for expanding contractions\n",
    "contraction_mapping = {\"ain't\": \"is not\", \"aren't\": \"are not\",\"can't\": \"cannot\", \"'cause\": \"because\", \"could've\": \"could have\", \"couldn't\": \"could not\",\n",
    "\n",
    "                           \"didn't\": \"did not\", \"doesn't\": \"does not\", \"don't\": \"do not\", \"hadn't\": \"had not\", \"hasn't\": \"has not\", \"haven't\": \"have not\",\n",
    "\n",
    "                           \"he'd\": \"he would\",\"he'll\": \"he will\", \"he's\": \"he is\", \"how'd\": \"how did\", \"how'd'y\": \"how do you\", \"how'll\": \"how will\", \"how's\": \"how is\",\n",
    "\n",
    "                           \"I'd\": \"I would\", \"I'd've\": \"I would have\", \"I'll\": \"I will\", \"I'll've\": \"I will have\",\"I'm\": \"I am\", \"I've\": \"I have\", \"i'd\": \"i would\",\n",
    "\n",
    "                           \"i'd've\": \"i would have\", \"i'll\": \"i will\",  \"i'll've\": \"i will have\",\"i'm\": \"i am\", \"i've\": \"i have\", \"isn't\": \"is not\", \"it'd\": \"it would\",\n",
    "\n",
    "                           \"it'd've\": \"it would have\", \"it'll\": \"it will\", \"it'll've\": \"it will have\",\"it's\": \"it is\", \"let's\": \"let us\", \"ma'am\": \"madam\",\n",
    "\n",
    "                           \"mayn't\": \"may not\", \"might've\": \"might have\",\"mightn't\": \"might not\",\"mightn't've\": \"might not have\", \"must've\": \"must have\",\n",
    "\n",
    "                           \"mustn't\": \"must not\", \"mustn't've\": \"must not have\", \"needn't\": \"need not\", \"needn't've\": \"need not have\",\"o'clock\": \"of the clock\",\n",
    "\n",
    "                           \"oughtn't\": \"ought not\", \"oughtn't've\": \"ought not have\", \"shan't\": \"shall not\", \"sha'n't\": \"shall not\", \"shan't've\": \"shall not have\",\n",
    "\n",
    "                           \"she'd\": \"she would\", \"she'd've\": \"she would have\", \"she'll\": \"she will\", \"she'll've\": \"she will have\", \"she's\": \"she is\",\n",
    "\n",
    "                           \"should've\": \"should have\", \"shouldn't\": \"should not\", \"shouldn't've\": \"should not have\", \"so've\": \"so have\",\"so's\": \"so as\",\n",
    "\n",
    "                           \"this's\": \"this is\",\"that'd\": \"that would\", \"that'd've\": \"that would have\", \"that's\": \"that is\", \"there'd\": \"there would\",\n",
    "\n",
    "                           \"there'd've\": \"there would have\", \"there's\": \"there is\", \"here's\": \"here is\",\"they'd\": \"they would\", \"they'd've\": \"they would have\",\n",
    "\n",
    "                           \"they'll\": \"they will\", \"they'll've\": \"they will have\", \"they're\": \"they are\", \"they've\": \"they have\", \"to've\": \"to have\",\n",
    "\n",
    "                           \"wasn't\": \"was not\", \"we'd\": \"we would\", \"we'd've\": \"we would have\", \"we'll\": \"we will\", \"we'll've\": \"we will have\", \"we're\": \"we are\",\n",
    "\n",
    "                           \"we've\": \"we have\", \"weren't\": \"were not\", \"what'll\": \"what will\", \"what'll've\": \"what will have\", \"what're\": \"what are\",\n",
    "\n",
    "                           \"what's\": \"what is\", \"what've\": \"what have\", \"when's\": \"when is\", \"when've\": \"when have\", \"where'd\": \"where did\", \"where's\": \"where is\",\n",
    "\n",
    "                           \"where've\": \"where have\", \"who'll\": \"who will\", \"who'll've\": \"who will have\", \"who's\": \"who is\", \"who've\": \"who have\",\n",
    "\n",
    "                           \"why's\": \"why is\", \"why've\": \"why have\", \"will've\": \"will have\", \"won't\": \"will not\", \"won't've\": \"will not have\",\n",
    "\n",
    "                           \"would've\": \"would have\", \"wouldn't\": \"would not\", \"wouldn't've\": \"would not have\", \"y'all\": \"you all\",\n",
    "\n",
    "                           \"y'all'd\": \"you all would\",\"y'all'd've\": \"you all would have\",\"y'all're\": \"you all are\",\"y'all've\": \"you all have\",\n",
    "\n",
    "                           \"you'd\": \"you would\", \"you'd've\": \"you would have\", \"you'll\": \"you will\", \"you'll've\": \"you will have\",\n",
    "\n",
    "                           \"you're\": \"you are\", \"you've\": \"you have\"}"
   ]
  },
  {
   "cell_type": "code",
   "execution_count": null,
   "metadata": {},
   "outputs": [],
   "source": []
  },
  {
   "cell_type": "code",
   "execution_count": 109,
   "metadata": {
    "tags": []
   },
   "outputs": [],
   "source": [
    "#Text Cleaning\n",
    "import nltk\n",
    "from nltk.corpus import stopwords\n",
    "\n",
    "stop_words = set(stopwords.words('english')) \n",
    "def text_cleaner(text,num):\n",
    "    newString = text.lower()  #converts all uppercase characters in the string into lowercase characters and returns it\n",
    "    newString = BeautifulSoup(newString, \"lxml\").text #parses the string into an lxml.html \n",
    "    newString = re.sub(r'\\([^)]*\\)', '', newString) #used to replace a string that matches a regular expression instead of perfect match\n",
    "    newString = re.sub('\"','', newString)           \n",
    "    newString = ' '.join([contraction_mapping[t] if t in contraction_mapping else t for t in newString.split(\" \")]) #for expanding contractions using the contraction_mapping dictionary    \n",
    "    newString = re.sub(r\"'s\\b\",\"\",newString)\n",
    "    newString = re.sub(\"[^a-zA-Z]\", \" \", newString)\n",
    "    if(num==0): \n",
    "      tokens = [w for w in newString.split() if not w in stop_words]  #converting the strings into tokens\n",
    "    else :\n",
    "      tokens = newString.split()\n",
    "    long_words=[]\n",
    "    for i in tokens:\n",
    "        if len(i)>1:                  #removing short words\n",
    "            long_words.append(i)   \n",
    "    return (\" \".join(long_words)).strip()\n",
    "\n"
   ]
  },
  {
   "cell_type": "code",
   "execution_count": 110,
   "metadata": {},
   "outputs": [
    {
     "output_type": "execute_result",
     "data": {
      "text/plain": "{'idan': 1}"
     },
     "metadata": {},
     "execution_count": 110
    }
   ],
   "source": [
    "ss  = edict()\n",
    "ss[\"idan\"] = 1\n",
    "ss[\"idan\"]+1\n",
    "ss"
   ]
  },
  {
   "cell_type": "code",
   "execution_count": 111,
   "metadata": {},
   "outputs": [],
   "source": [
    "from easydict import EasyDict as edict"
   ]
  },
  {
   "cell_type": "code",
   "execution_count": 112,
   "metadata": {},
   "outputs": [],
   "source": [
    "#Calling the function\n",
    "x_vocab = edict()\n",
    "y_vocab = edict()\n",
    "\n",
    "article_word_count = []\n",
    "abstract_word_count = []\n",
    "\n",
    "cleaned_text = []\n",
    "highlights = []\n",
    "\n",
    "max_ar_length = 0\n",
    "max_high_lengh = 0\n",
    "\n",
    "for file in stories:\n",
    "    t = file['story']\n",
    "    story =\"\"\n",
    "    highligh= \"\"\n",
    "    h = file['highlights']\n",
    "    for line in t:\n",
    "        story= story+line\n",
    "        for word in line: \n",
    "            if word not in x_vocab.keys():\n",
    "                x_vocab[word] =1\n",
    "            else: \n",
    "                x_vocab[word]+=1\n",
    "\n",
    "    if len(story.split())> max_ar_length: max_ar_length =len(story.split())\n",
    "    article_word_count.append(len(story.split()))\n",
    "    cleaned_text.append(text_cleaner(story,0))\n",
    "    for line in h:\n",
    "        highligh= highligh+line\n",
    "        if word not in y_vocab.keys():\n",
    "            y_vocab[word] =1\n",
    "        else: \n",
    "            y_vocab[word]+=1\n",
    "\n",
    "    if len(highligh.split())> max_high_lengh: max_high_lengh =len(highligh.split())\n",
    "    abstract_word_count.append(len(highligh.split()))\n",
    "    highlights.append(highligh)"
   ]
  },
  {
   "cell_type": "code",
   "execution_count": 113,
   "metadata": {
    "tags": []
   },
   "outputs": [
    {
     "output_type": "stream",
     "name": "stdout",
     "text": "Max length sequence story: 1687\n Max length sequence highlight: 72\n"
    }
   ],
   "source": [
    "# print summer: \n",
    "print(f\" Max length sequence story: {max_ar_length}\")\n",
    "print(f\" Max length sequence highlight: {max_high_lengh}\")\n",
    "\n"
   ]
  },
  {
   "cell_type": "code",
   "execution_count": 114,
   "metadata": {},
   "outputs": [
    {
     "output_type": "execute_result",
     "data": {
      "text/plain": "int"
     },
     "metadata": {},
     "execution_count": 114
    }
   ],
   "source": [
    "type(len(set(cleaned_text[1].split())))"
   ]
  },
  {
   "cell_type": "code",
   "execution_count": 115,
   "metadata": {},
   "outputs": [],
   "source": [
    "test_text = cleaned_text[:100]\n",
    "val_text = cleaned_text[100:200]\n",
    "cleaned_text = cleaned_text[200:]\n",
    "test_highlights = highlights[:100]\n",
    "val_highlights = highlights[100:200]\n",
    "highlights = highlights[200:]"
   ]
  },
  {
   "cell_type": "code",
   "execution_count": 116,
   "metadata": {},
   "outputs": [
    {
     "output_type": "execute_result",
     "data": {
      "text/plain": "1000"
     },
     "metadata": {},
     "execution_count": 116
    }
   ],
   "source": [
    "len(cleaned_text)"
   ]
  },
  {
   "cell_type": "code",
   "execution_count": 117,
   "metadata": {},
   "outputs": [
    {
     "output_type": "execute_result",
     "data": {
      "text/plain": "'former los alamos national laboratory nuclear scientist wife indicted charges trying provide nuclear secrets venezuela us officials stressed venezuelan government knew nothing plansthe officials said information undercover operation hugo chavezs government plans try build nuclear weaponpedro mascheroni roxby mascheroni us citizens worked contractors los alamos new mexico officials said fridayin mascheroni left laboratory years earlier series conversations undercover fbi agent posing official caracas government according indictmentmascheroni allegedly said could help venezuela develop nuclear bomb within years program venezuela would use secret underground nuclear reactor produce enrich plutonium open aboveground reactor produce nuclear energy justice department saidaccording us justice department statement mascheroni allegedly asked obtaining venezuelan citizenship described expected paid classified nuclear work venezuela mascheroni said fee producing certain information indictment allegesus attorney kenneth gonzalez said charges couple serioushe said laws designed keep restricted data getting wrong people'"
     },
     "metadata": {},
     "execution_count": 117
    }
   ],
   "source": [
    "# TODO: some words are not properly split; maybe beginning and ending of sentences?\n",
    "cleaned_text[0]"
   ]
  },
  {
   "cell_type": "code",
   "execution_count": 118,
   "metadata": {
    "tags": []
   },
   "outputs": [
    {
     "output_type": "stream",
     "name": "stdout",
     "text": "sos new indictment alleges physicist wanted for servicesthe scientist and his wife are accused of trying to provide nuclear secrets to venezuelavenezuelas government knew nothing about the plans officials saythe us citizens worked as contractors at the new mexico laboratory eos\nsos george w bush calls his new book on his father a love storybush says his father george hw bush is an extraordinary person eos\nafrican tennis is struggling to produce toplevel professional playersaspiring stars face big obstacles if they are to establish themselves on tourone of the best ways is to win a college scholarship in the united statesotherwise african players are not exposed to toplevel competition while they are young\n"
    }
   ],
   "source": [
    "new_highlights = []\n",
    "for highlight in highlights:\n",
    "    highlight = \"sos \" + highlight + \" eos\"\n",
    "    new_highlights.append(highlight)\n",
    "highlights = new_highlights\n",
    "new_val_highlights = []\n",
    "for highlight in val_highlights:\n",
    "    highlight = \"sos \" + highlight + \" eos\"\n",
    "    new_val_highlights.append(highlight)\n",
    "val_highlights = new_val_highlights\n",
    "print(highlights[0])\n",
    "print(val_highlights[0])\n",
    "print(test_highlights[0])"
   ]
  },
  {
   "cell_type": "code",
   "execution_count": 119,
   "metadata": {},
   "outputs": [],
   "source": [
    "X_tokenizer = Tokenizer(num_words = 3000)\n",
    "X_tokenizer.fit_on_texts(cleaned_text)\n"
   ]
  },
  {
   "cell_type": "code",
   "execution_count": 120,
   "metadata": {},
   "outputs": [
    {
     "output_type": "execute_result",
     "data": {
      "text/plain": "vilian', 38),\n             ('support', 248),\n             ('statesit', 2),\n             ('passed', 69),\n             ('unanimouslyin', 1),\n             ('released', 185),\n             ('state', 623),\n             ('secretary', 133),\n             ('hiliary', 1),\n             ('clinton', 68),\n             ('commended', 3),\n             ('swift', 14),\n             ('passage', 23),\n             ('resolutionabyei', 1),\n             ('source', 86),\n             ('regional', 38),\n             ('tension', 20),\n             ('many', 566),\n             ('urge', 13),\n             ('parties', 64),\n             ('reach', 93),\n             ('immediate', 27),\n             ('ceasefire', 23),\n             ('aid', 91),\n             ('workers', 81),\n             ('unfettered', 2),\n             ('access', 106),\n             ('required', 56),\n             ('deliver', 25),\n             ('humanitarian', 55),\n             ('assistance', 46),\n             ('innocent', 29),\n             ('civilians', 44),\n             ('affected', 64),\n             ('conflicta', 2),\n             ('week', 364),\n             ('ago', 189),\n             ('sudanese', 16),\n             ('peoples', 49),\n             ('liberation', 13),\n             ('movement', 83),\n             ('signed', 65),\n             ('allow', 92),\n             ('aimed', 37),\n             ('ending', 36),\n             ('strife', 3),\n             ('ravaged', 4),\n             ('country', 363),\n             ('two', 1015),\n             ('sides', 51),\n             ('agreed', 87),\n             ('principle', 14),\n             ('need', 306),\n             ('party', 195),\n             ('monitor', 19),\n             ('illdefined', 1),\n             ('border', 188),\n             ('north', 298),\n             ('south', 283),\n             ('scheduled', 59),\n             ('july', 105),\n             ('independence', 42),\n             ('souththe', 4),\n             ('verify', 13),\n             ('redeployment', 1),\n             ('armed', 78),\n             ('forces', 195),\n             ('army', 136),\n             ('successor', 7),\n             ('area', 206),\n             ('tasks', 9),\n             ('states', 546),\n             ('debut', 14),\n             ('mad', 21),\n             ('men', 228),\n             ('called', 354),\n             ('real', 191),\n             ('man', 301),\n             ('draper', 1),\n             ('played', 122),\n             ('jon', 7),\n             ('hamm', 1),\n             ('alter', 14),\n             ('ego', 3),\n             ('misrepresents', 1),\n             ('advertising', 17),\n             ('industry', 85),\n             ('ignoring', 11),\n             ('dynamics', 4),\n             ('creative', 31),\n             ('revolution', 34),\n             ('communications', 45),\n             ('foreverfrom', 1),\n             ('sit', 39),\n             ('claiming', 25),\n             ('exasperating', 1),\n             ('show', 296),\n             ('even', 469),\n             ('remotely', 4),\n             ('representative', 29),\n             ('times', 217),\n             ('lived', 49),\n             ('like', 789),\n             ('dynasty', 2),\n             ('channel', 23),\n             ('fulfillment', 1),\n             ('every', 318),\n             ('possible', 145),\n             ('stereotype', 4),\n             ('bundled', 1),\n             ('nicely', 4),\n             ('convince', 10),\n             ('consumers', 23),\n             ('sort', 41),\n             ('morally', 2),\n             ('repugnant', 1),\n             ('behavior', 50),\n             ('exhibited', 3),\n             ('characters', 27),\n             ('onenightstands', 1),\n             ('excessive', 9),\n             ('consumption', 5),\n             ('cutty', 1),\n             ('sark', 1),\n             ('lucky', 22),\n             ('strikes', 31),\n             ('glamorous', 5),\n             ('vintageit', 1),\n             ('dynamic', 8),\n             ('period', 77),\n             ('counterculture', 2),\n             ('found', 406),\n             ('expression', 17),\n             ('madison', 5),\n             ('avenue', 11),\n             ('generation', 71),\n             ('rebellious', 4),\n             ('coterie', 1),\n             ('art', 84),\n             ('directors', 14),\n             ('copywriters', 2),\n             ('understood', 19),\n             ('visual', 11),\n             ('verbal', 7),\n             ('indivisible', 2),\n             ('bridled', 1),\n             ('old', 149),\n             ('rules', 83),\n             ('consigned', 1),\n             ('secondary', 6),\n             ('roles', 17),\n             ('admaking', 1),\n             ('process', 126),\n             ('dominated', 18),\n             ('noncreative', 1),\n             ('hacks', 3),\n             ('technocratsin', 1),\n             ('successful', 66),\n             ('year', 565),\n             ('awardwinning', 3),\n             ('director', 168),\n             ('legendary', 10),\n             ('doyle', 2),\n             ('dane', 3),\n             ('bernbach', 1),\n             ('partners', 37),\n             ('unthinkable', 4),\n             ('ad', 25),\n             ('agency', 181),\n             ('name', 126),\n             ('masthead', 1),\n             ('later', 251),\n             ('go', 371),\n             ('publicit', 2),\n             ('testy', 2),\n             ('graphic', 5),\n             ('designer', 21),\n             ('rage', 6),\n             ('communicate', 11),\n             ('create', 87),\n             ('icon', 5),\n             ('rather', 101),\n             ('con', 2),\n             ('unlike', 24),\n             ('tv', 94),\n             ('full', 140),\n             ('exhausting', 3),\n             ('joyous', 1),\n             ('days', 321),\n             ('pitching', 4),\n             ('business', 200),\n             ('creating', 35),\n             ('ideas', 48),\n             ('comping', 1),\n             ('storyboarding', 1),\n             ('selling', 37),\n             ('photographing', 3),\n             ('directing', 5),\n             ('commercials', 5),\n             ('extracurricular', 2),\n             ('activity', 35),\n             ('chasing', 5),\n             ('fly', 46),\n             ('balls', 6),\n             ('dunking', 1),\n             ('basketballs', 2),\n             ('softball', 2),\n             ('basketball', 33),\n             ('teamsthe', 3),\n             ('instant', 6),\n             ('success', 65),\n             ('trailblazing', 1),\n             ('firm', 44),\n             ('inspired', 26),\n             ('handful', 24),\n             ('groups', 204),\n             ('form', 73),\n             ('agencies', 40),\n             ('join', 41),\n             ('passionate', 16),\n             ('created', 93),\n             ('imagery', 4),\n             ('caught', 53),\n             ('eyes', 62),\n             ('penetrated', 3),\n             ('minds', 13),\n             ('warmed', 2),\n             ('hearts', 16),\n             ('caused', 78),\n             ('act', 114),\n             ('raising', 25),\n             ('bar', 20),\n             ('communication', 33),\n             ('throughout', 53),\n             ('worldof', 1),\n             ('course', 112),\n             ('producers', 22),\n             ('making', 194),\n             ('drama', 23),\n             ('documentary', 23),\n             ('record', 113),\n             ('please', 34),\n             ('know', 473),\n             ('bear', 20),\n             ('resemblance', 5),\n             ('lineup', 9),\n             ('talentless', 1),\n             ('carouse', 1),\n             ('halls', 5),\n             ('fictitious', 2),\n             ('sterling', 26),\n             ('cooper', 23),\n             ('wanted', 164),\n             ('adulterous', 1),\n             ('affair', 6),\n             ('definitely', 34),\n             ('rosie', 4),\n             ('timethe', 4),\n             ('opinions', 65),\n             ('expressed', 91),\n             ('commentary', 54),\n             ('solely', 64),\n             ('george', 55),\n             ('lois', 3),\n             ('labor', 45),\n             ('union', 118),\n             ('representing', 21),\n             ('nearly', 165),\n             ('patrol', 26),\n             ('agents', 43),\n             ('staff', 94),\n             ('friday', 250),\n             ('disputed', 18),\n             ('comments', 86),\n             ('arizona', 44),\n             ('gov', 42),\n             ('jan', 9),\n             ('brewer', 4),\n             ('illegal', 53),\n             ('immigrants', 40),\n             ('coming', 132),\n             ('across', 217),\n             ('smuggling', 8),\n             ('drugsbrewer', 1),\n             ('initially', 32),\n             ('month', 223),\n             ('debate', 67),\n             ('republican', 150),\n             ('gubernatorial', 5),\n             ('candidates', 60),\n             ('reporter', 19),\n             ('basis', 26),\n             ('claimwell', 1),\n             ('majority', 106),\n             ('trespassing', 2),\n             ('becoming', 45),\n             ('drug', 146),\n             ('mules', 1),\n             ('theyre', 148),\n             ('borders', 27),\n             ('huge', 90),\n             ('numbers', 73),\n             ('cartels', 14),\n             ('taken', 209),\n             ('control', 170),\n             ('immigrationso', 1),\n             ('criminals', 23),\n             ('breaking', 37),\n             ('law', 294),\n             ('pack', 7),\n             ('marijuana', 49),\n             ('drugs', 79),\n             ('backswhen', 1),\n             ('pressed', 8),\n             ('explained', 36),\n             ('simply', 89),\n             ('look', 171),\n             ('accosted', 2),\n             ('become', 181),\n             ('subjects', 10),\n             ('cartelstj', 1),\n             ('bonner', 3),\n             ('cnn', 518),\n             ('brewers', 2),\n             ('claims', 109),\n             ('clearly', 44),\n             ('case', 308),\n             ('undocumented', 20),\n             ('sometimes', 89),\n             ('blame', 24),\n             ('cartelsbut', 1),\n             ('little', 232),\n             ('credibility', 10),\n             ('smugglers', 6),\n             ('typically', 25),\n             ('transporting', 6),\n             ('larger', 39),\n             ('quantities', 4),\n             ('besides', 7),\n             ('true', 82),\n             ('prosecutions', 6),\n             ('smugglingbrewers', 1),\n             ('dont', 511),\n             ('comport', 4),\n             ('reality', 63),\n             ('thats', 278),\n             ('nicest', 1),\n             ('way', 453),\n             ('itbrewer', 1),\n             ('doubled', 13),\n             ('however', 135),\n             ('issuing', 11),\n             ('reiterating', 3),\n             ('themthe', 8),\n             ('simple', 49),\n             ('truth', 35),\n             ('human', 224),\n             ('direction', 26),\n             ('definition', 12),\n             ('associated', 34),\n             ('press', 86),\n             ('reported', 234),\n             ('republic', 44),\n             ('common', 78),\n             ('knowledge', 34),\n             ('mexican', 45),\n             ('merged', 2),\n             ('traffickingbrewer', 1),\n             ('rights', 244),\n             ('violations', 18),\n             ('place', 262),\n             ('victimizing', 1),\n             ('families', 120),\n             ('abhorrentbrewers', 1),\n             ('center', 187),\n             ('controversy', 31),\n             ('recently', 140),\n             ('requires', 41),\n             ('enforcement', 83),\n             ('ascertain', 3),\n             ('subject', 46),\n             ('investigation', 136),\n             ('reason', 97),\n             ('suspect', 37),\n             ('illegally', 11),\n             ('considering', 29),\n             ('whether', 282),\n             ('file', 29),\n             ('suit', 39),\n             ('girl', 135),\n             ('critically', 4),\n             ('injured', 71),\n             ('airplane', 15),\n             ('struck', 60),\n             ('florida', 98),\n             ('weekend', 76),\n             ('died', 167),\n             ('sarasota', 2),\n             ('county', 145),\n             ('sheriffs', 43),\n             ('office', 248),\n             ('tuesdaythe', 12),\n             ('oceana', 1),\n             ('irizarry', 7),\n             ('father', 131),\n             ('ommy', 2),\n             ('georgia', 45),\n             ('sunday', 230),\n             ('afternoon', 53),\n             ('plane', 131),\n             ('emergency', 118),\n             ('landing', 28),\n             ('federal', 263),\n             ('aviation', 52),\n             ('administration', 156),\n             ('scene', 83),\n             ('rushed', 8),\n             ('hospitalvenice', 1),\n             ('municipal', 8),\n             ('airport', 121),\n             ('distress', 10),\n             ('spokeswoman', 91),\n             ('wendy', 4),\n             ('rose', 34),\n             ('saidthe', 262),\n             ('piper', 4),\n             ('cherokee', 8),\n             ('radioed', 6),\n             ('unable', 40),\n             ('make', 527),\n             ('instead', 107),\n             ('going', 472),\n             ('caspersen', 1),\n             ('karl', 16),\n             ('kokomoor', 2),\n             ('passenger', 45),\n             ('david', 111),\n             ('theen', 1),\n             ('uninjured', 2),\n             ('englewood', 1),\n             ('floridakokomoor', 1),\n             ('president', 638),\n             ('ceo', 45),\n             ('engineering', 15),\n             ('emotionally', 8),\n             ('distraught', 4),\n             ('devastated', 9),\n             ('pastor', 18),\n             ('victor', 8),\n             ('willis', 3),\n             ('tuesdaywords', 1),\n             ('express', 39),\n             ('sorrow', 2),\n             ('read', 87),\n             ('willisnever', 1),\n             ('saw', 143),\n             ('themkokomoor', 1),\n             ('losing', 41),\n             ('altitude', 13),\n             ('fast', 60),\n             ('decision', 185),\n             ('waters', 31),\n             ('edge', 23),\n             ('appeared', 85),\n             ('remotei', 1),\n             ('landed', 26),\n             ('exited', 1),\n             ('realized', 33),\n             ('beachthe', 1),\n             ('crash', 65),\n             ('conducted', 34),\n             ('faa', 32),\n             ('transportation', 50),\n             ('safety', 120),\n             ('boardthe', 3),\n             ('death', 282),\n             ('determine', 43),\n             ('face', 182),\n             ('rosei', 1),\n             ('heartfelt', 4),\n             ('apologies', 8),\n             ('family', 439),\n             ('role', 98),\n             ('tragic', 21),\n             ('accident', 59),\n             ('fully', 50),\n             ('cooperate', 9),\n             ('ntsb', 16),\n             ('investigationsfamily', 1),\n             ('celebrating', 13),\n             ('wedding', 33),\n             ('anniversaryon', 1),\n             ('posted', 86),\n             ('love', 192),\n             ('message', 74),\n             ('facebook', 95),\n             ('ninth', 10),\n             ('anniversarythank', 1),\n             ('thick', 7),\n             ('thin', 14),\n             ('heart', 109),\n             ('mi', 1),\n             ('roma', 9),\n             ('cant', 166),\n             ('wait', 41),\n             ('see', 387),\n             ('next', 329),\n             ('store', 49),\n             ('wroteaccording', 1),\n             ('page', 53),\n             ('originally', 23),\n             ('mayaguez', 1),\n             ('puerto', 3),\n             ('rico', 1),\n             ('sergeant', 7),\n             ('class', 55),\n             ('stationed', 6),\n             ('fort', 32),\n             ('stewart', 13),\n             ('georgiahe', 1),\n             ('platoon', 2),\n             ('assigned', 16),\n             ('stewarts', 3),\n             ('warrior', 3),\n             ('transition', 19),\n             ('battalion', 7),\n             ('twice', 42),\n             ('deployed', 18),\n             ('iraq', 115),\n             ('joining', 18),\n             ('inthis', 1),\n             ('heartwrenching', 1),\n             ('situation', 121),\n             ('especially', 124),\n             ('loved', 57),\n             ('ones', 77),\n             ('vacation', 19),\n             ('celebrate', 34),\n             ('milestone', 9),\n             ('maj', 9),\n             ('gen', 25),\n             ('mike', 39),\n             ('commander', 23),\n             ('infantry', 4),\n             ('division', 32),\n             ('stewarthunter', 1),\n             ('thoughts', 35),\n             ('prayers', 17),\n             ('familycnns', 2),\n             ('kevin', 22),\n             ('conlon', 1),\n             ('javier', 4),\n             ('de', 74),\n             ('diego', 38),\n             ('contributed', 262),\n             ('report', 468),\n             ('african', 70),\n             ('court', 421),\n             ('charged', 97),\n             ('julius', 4),\n             ('malema', 6),\n             ('money', 243),\n             ('laundering', 8),\n             ('wednesday', 210),\n             ('firebrand', 3),\n             ('politician', 22),\n             ('scoffed', 2),\n             ('accusations', 24),\n             ('riled', 2),\n             ('supporters', 61),\n             ('moments', 24),\n             ('release', 117),\n             ('bailthe', 3),\n             ('youth', 44),\n             ('leader', 154),\n             ('went', 216),\n             ('antigovernment', 8),\n             ('tirade', 4),\n             ('releasehe', 1),\n             ('charge', 86),\n             ('politically', 20),\n             ('motivated', 14),\n             ('jacob', 7),\n             ('zumaspeaking', 1),\n             ('microphone', 9),\n             ('without', 283),\n             ('trademark', 11),\n             ('beret', 1),\n             ('donned', 1),\n             ('dark', 34),\n             ('burgundy', 1),\n             ('hearing', 95),\n             ('addressed', 18),\n             ('raucous', 2),\n             ('near', 159),\n             ('courthe', 2),\n             ('belittled', 2),\n             ('allegations', 61),\n             ('minor', 34),\n             ('saying', 212),\n             ('authorities', 267),\n             ('arrest', 90),\n             ('anythingprosecutors', 1),\n             ('accused', 104),\n             ('unlawfully', 1),\n             ('benefiting', 3),\n             ('proceeds', 5),\n             ('generated', 12),\n             ('companies', 86),\n             ('shares', 17),\n             ('congress', 144),\n             ('thrown', 20),\n             ('ruling', 87),\n             ('denied', 86),\n             ('allegationthe', 1),\n             ('additional', 73),\n             ('details', 82),\n             ('still', 430),\n             ('finalizing', 2),\n             ('documents', 51),\n             ('motivatedthe', 1),\n             ('preferred', 7),\n             ('competent', 4),\n             ('institutions', 34),\n             ('derive', 1),\n             ('constitution', 37),\n             ('want', 421),\n             ('discharge', 2),\n             ('duties', 14),\n             ('political', 292),\n             ('motivebefore', 1),\n             ('malemas', 2),\n             ('sang', 13),\n             ('songs', 16),\n             ('deriding', 2),\n             ('outside', 157),\n             ('polokwane', 1),\n             ('overnight', 11),\n             ('vigil', 4),\n             ('hall', 24),\n             ('waited', 14),\n             ('peeking', 1),\n             ('behind', 178),\n             ('razor', 1),\n             ('wire', 8),\n             ('amid', 49),\n             ('heavy', 56),\n             ('included', 74),\n             ('riot', 6),\n             ('closed', 57),\n             ('roads', 33),\n             ('leading', 84),\n             ('water', 198),\n             ('cannon', 11),\n             ('scenehands', 1),\n             ('placards', 1),\n             ('rule', 63),\n             ('daywho', 1),\n             ('malemamalema', 1),\n             ('freed', 25),\n             ('bail', 16),\n             ('return', 134),\n             ('novembercrimes', 1),\n             ...])"
     },
     "metadata": {},
     "execution_count": 120
    }
   ],
   "source": [
    "X_tokenizer.word_counts"
   ]
  },
  {
   "cell_type": "code",
   "execution_count": 121,
   "metadata": {},
   "outputs": [],
   "source": [
    "# TODO: why 90? this will probably fuck up the embedding layer because we only have 51 words in the abstract and the embedding thinks our vocabulary has size 90\n",
    "Y_tokenizer = Tokenizer(num_words = 3000)\n",
    "Y_tokenizer.fit_on_texts(highlights)\n",
    "Y_voc = Y_tokenizer.num_words"
   ]
  },
  {
   "cell_type": "code",
   "execution_count": 122,
   "metadata": {},
   "outputs": [
    {
     "output_type": "execute_result",
     "data": {
      "text/plain": "            ('both', 16),\n             ('lions', 2),\n             ('tom', 2),\n             ('lewand', 1),\n             ('we', 31),\n             ('fondly', 1),\n             ('remember', 5),\n             ('alex', 6),\n             ('one', 77),\n             ('our', 18),\n             ('ownkarras', 1),\n             ('sat', 3),\n             ('broadcast', 2),\n             ('booth', 2),\n             ('howard', 2),\n             ('cosell', 1),\n             ('frank', 2),\n             ('giffordhe', 1),\n             ('appeared', 3),\n             ('movies', 1),\n             ('including', 18),\n             ('blazing', 1),\n             ('saddles', 1),\n             ('victor', 3),\n             ('victoriain', 1),\n             ('april', 7),\n             ('karras', 1),\n             ('joined', 3),\n             ('other', 49),\n             ('players', 20),\n             ('suing', 2),\n             ('nfl', 8),\n             ('votes', 4),\n             ('measure', 2),\n             ('fund', 2),\n             ('arm', 5),\n             ('syrian', 6),\n             ('rebelsclub', 1),\n             ('growth', 2),\n             ('announced', 12),\n             ('hold', 12),\n             ('lawmakers', 5),\n             ('accountable', 1),\n             ('voteconservative', 1),\n             ('decision', 10),\n             ('removes', 2),\n             ('pressure', 2),\n             ('concerned', 4),\n             ('spending', 9),\n             ('some', 36),\n             ('holidaymakers', 1),\n             ('appear', 1),\n             ('having', 7),\n             ('second', 21),\n             ('thoughts', 4),\n             ('visiting', 4),\n             ('greeceothers', 1),\n             ('safety', 9),\n             ('if', 26),\n             ('violent', 5),\n             ('street', 7),\n             ('protests', 11),\n             ('resume', 4),\n             ('austerity', 1),\n             ('cutsidea', 1),\n             ('has', 227),\n             ('investors', 1),\n             ('worried', 1),\n             ('socalled', 1),\n             ('grexit', 1),\n             ('or', 55),\n             ('greek', 3),\n             ('exit', 2),\n             ('from', 215),\n             ('eurozonetravel', 1),\n             ('experts', 5),\n             ('tourists', 2),\n             ('economically', 2),\n             ('troubled', 3),\n             ('countries', 14),\n             ('unlikely', 5),\n             ('lose', 6),\n             ('out', 54),\n             ('nations', 15),\n             ('seat', 4),\n             ('various', 3),\n             ('layers', 1),\n             ('jurisdictionscanada', 1),\n             ('grappling', 2),\n             ('finding', 3),\n             ('balance', 3),\n             ('between', 37),\n             ('public', 21),\n             ('access', 12),\n             ('buildingin', 1),\n             ('past', 11),\n             ('decades', 5),\n             ('intensified', 1),\n             ('buildings', 6),\n             ('starbucks', 1),\n             ('wants', 21),\n             ('bigger', 3),\n             ('share', 4),\n             ('n', 1),\n             ('american', 20),\n             ('coffee', 2),\n             ('market', 6),\n             ('current', 6),\n             ('percentfolgers', 1),\n             ('largest', 9),\n             ('producer', 4),\n             ('retail', 1),\n             ('packaged', 1),\n             ('united', 37),\n             ('statesstarbucks', 1),\n             ('put', 12),\n             ('seattles', 1),\n             ('best', 12),\n             ('brand', 3),\n             ('burger', 1),\n             ('king', 12),\n             ('subwaystarbucks', 1),\n             ('flavored', 1),\n             ('coffees', 1),\n             ('vanilla', 1),\n             ('caramel', 1),\n             ('cinnamon', 1),\n             ('head', 11),\n             ('grocery', 1),\n             ('stores', 3),\n             ('june', 4),\n             ('suicide', 8),\n             ('car', 20),\n             ('bombing', 6),\n             ('kills', 7),\n             ('four', 25),\n             ('police', 67),\n             ('officers', 19),\n             ('alrutbagunmen', 1),\n             ('later', 7),\n             ('kill', 7),\n             ('checkpoints', 1),\n             ('townalso', 1),\n             ('bomb', 8),\n             ('person', 7),\n             ('injures', 1),\n             ('central', 8),\n             ('iraqi', 5),\n             ('town', 11),\n             ('musayyib', 1),\n             ('appeals', 6),\n             ('circuit', 1),\n             ('san', 9),\n             ('franciscojudge', 1),\n             ('reaffirms', 2),\n             ('gays', 2),\n             ('lesbians', 1),\n             ('into', 39),\n             ('militaryrecruiting', 1),\n             ('stations', 2),\n             ('asking', 3),\n             ('sexual', 5),\n             ('orientationthe', 1),\n             ('pentagon', 2),\n             ('given', 10),\n             ('recruiters', 1),\n             ('accept', 4),\n             ('gay', 8),\n             ('lesbian', 2),\n             ('candidates', 3),\n             ('matika', 1),\n             ('wilbur', 1),\n             ('began', 9),\n             ('touring', 1),\n             ('country', 9),\n             ('photograph', 1),\n             ('native', 6),\n             ('americansthose', 1),\n             ('images', 5),\n             ('project', 5),\n             ('diversity', 2),\n             ('identityproject', 1),\n             ('display', 3),\n             ('tacoma', 1),\n             ('art', 9),\n             ('museum', 7),\n             ('until', 8),\n             ('octoberwilbur', 1),\n             ('hopes', 10),\n             ('turn', 5),\n             ('books', 5),\n             ('websites', 2),\n             ('culture', 4),\n             ('amber', 4),\n             ('alert', 4),\n             ('issued', 10),\n             ('authorities', 20),\n             ('extend', 3),\n             ('search', 5),\n             ('texaswas', 1),\n             ('reported', 19),\n             ('missing', 12),\n             ('mother', 20),\n             ('found', 46),\n             ('dead', 20),\n             ('sunday', 19),\n             ('nightauthorities', 2),\n             ('seek', 9),\n             ('mothers', 4),\n             ('estranged', 1),\n             ('husband', 5),\n             ('visited', 2),\n             ('sisters', 1),\n             ('homeman', 1),\n             ('believed', 6),\n             ('traveling', 4),\n             ('toyota', 1),\n             ('paseo', 1),\n             ('northwest', 1),\n             ('getting', 7),\n             ('muchneeded', 1),\n             ('rainutility', 1),\n             ('workers', 6),\n             ('pennsylvania', 2),\n             ('help', 29),\n             ('restore', 1),\n             ('poweranother', 1),\n             ('system', 5),\n             ('forecast', 4),\n             ('snow', 5),\n             ('region', 4),\n             ('this', 78),\n             ('weekendbut', 1),\n             ('expected', 24),\n             ('produce', 2),\n             ('problems', 3),\n             ('northeast', 3),\n             ('sudans', 2),\n             ('oks', 1),\n             ('opening', 5),\n             ('all', 39),\n             ('borders', 2),\n             ('newly', 2),\n             ('independent', 1),\n             ('south', 27),\n             ('have', 200),\n             ('been', 122),\n             ('odds', 1),\n             ('number', 16),\n             ('issues', 20),\n             ('borderalbashir', 1),\n             ('tells', 14),\n             ('ambassador', 10),\n             ('normalizing', 1),\n             ('relations', 7),\n             ('priority', 3),\n             ('state', 38),\n             ('news', 22),\n             ('reports', 10),\n             ('rl', 1),\n             ('stine', 1),\n             ('reviving', 2),\n             ('most', 40),\n             ('popular', 8),\n             ('series', 13),\n             ('streetstine', 1),\n             ('joins', 3),\n             ('authors', 3),\n             ('horror', 4),\n             ('teenstv', 1),\n             ('shows', 21),\n             ('renew', 2),\n             ('interest', 5),\n             ('literatureauthor', 1),\n             ('jonathan', 2),\n             ('maberry', 1),\n             ('modern', 6),\n             ('teen', 4),\n             ('goes', 4),\n             ('inside', 4),\n             ('personal', 5),\n             ('experience', 5),\n             ('donna', 2),\n             ('brazile', 3),\n             ('vast', 2),\n             ('majority', 7),\n             ('young', 15),\n             ('americans', 16),\n             ('samesex', 5),\n             ('marriagebrazile', 1),\n             ('figures', 2),\n             ('hesitant', 1),\n             ('make', 26),\n             ('beliefs', 3),\n             ('publicbrazile', 1),\n             ('justice', 9),\n             ('kennedy', 4),\n             ('rules', 4),\n             ('federal', 12),\n             ('ban', 8),\n             ('unfairly', 1),\n             ('treats', 1),\n             ('couplescourt', 1),\n             ('marriage', 6),\n             ('important', 10),\n             ('enough', 7),\n             ('apply', 1),\n             ('equally', 1),\n             ('eu', 7),\n             ('official', 41),\n             ('describes', 5),\n             ('meeting', 10),\n             ('intense', 2),\n             ('tough', 6),\n             ('exchange', 3),\n             ('viewsdifferences', 1),\n             ('remain', 8),\n             ('talks', 10),\n             ('month', 11),\n             ('baghdadwestern', 1),\n             ('suspect', 8),\n             ('iran', 10),\n             ('build', 5),\n             ('weapons', 5),\n             ('assertion', 1),\n             ('tehran', 2),\n             ('deniesisrael', 1),\n             ('threatened', 3),\n             ('attack', 22),\n             ('stop', 12),\n             ('developing', 2),\n             ('page', 6),\n             ('includes', 4),\n             ('transcriptuse', 1),\n             ('transcript', 5),\n             ('students', 13),\n             ('reading', 3),\n             ('comprehension', 3),\n             ('vocabularyat', 1),\n             ('bottom', 3),\n             ('comment', 4),\n             ('chance', 6),\n             ('mentioned', 2),\n             ('cnn', 24),\n             ('student', 10),\n             ('you', 23),\n             ('teacher', 3),\n             ('age', 4),\n             ('older', 4),\n             ('request', 8),\n             ('mention', 1),\n             ('roll', 2),\n             ('call', 21),\n             ('cameron', 2),\n             ('russell', 1),\n             ('model', 4),\n             ('known', 13),\n             ('tedx', 1),\n             ('beauty', 2),\n             ('helps', 8),\n             ('launch', 9),\n             ('magazineinitially', 1),\n             ('webzine', 1),\n             ('interrupt', 1),\n             ('magazine', 6),\n             ('invites', 3),\n             ('diverse', 2),\n             ('voices', 5),\n             ('mediarussell', 1),\n             ('visit', 8),\n             ('lab', 4),\n             ('genius', 1),\n             ('explore', 3),\n             ('morerussell', 1),\n             ('critical', 4),\n             ('people', 105),\n             ('color', 1),\n             ('conversations', 3),\n             ('weekend', 5),\n             ('fire', 17),\n             ('prison', 11),\n             ('turkey', 5),\n             ('killed', 43),\n             ('inmatesprisoners', 1),\n             ('reportedly', 9),\n             ('set', 28),\n             ('mattresses', 1),\n             ('protest', 13),\n             ('living', 5),\n             ('conditionsan', 1),\n             ('activist', 2),\n             ('nearly', 8),\n             ('times', 13),\n             ('over', 58),\n             ('intended', 2),\n             ('capacitygovernment', 1),\n             ('upgrading', 1),\n             ('michael', 12),\n             ('mcfaul', 4),\n             ('became', 5),\n             ('russia', 16),\n             ('inrussia', 1),\n             ('expert', 12),\n             ('took', 21),\n             ('leave', 10),\n             ('stanford', 2),\n             ('serve', 5),\n             ('obama', 53),\n             ('administration', 7),\n             ('inmcfaul', 1),\n             ('develop', 3),\n             ('administrations', 1),\n             ('firstterm', 1),\n             ('reset', 1),\n             ('policy', 6),\n             ('russiastaterun', 1),\n             ('media', 16),\n             ('criticized', 5),\n             ('outspoken', 1),\n             ('prodemocracy', 1),\n             ('mary', 3),\n             ('kate', 1),\n             ('cary', 1),\n             ('hw', 1),\n             ('bush', 11),\n             ('turning', 3),\n             ('recognized', 2),\n             ('serviceshe', 1),\n             ('sought', 2),\n             ('life', 25),\n             ('meaning', 2),\n             ('adventure', 4),\n             ('succeededcary', 1),\n             ('much', 16),\n             ('teach', 3),\n             ('millennials', 1),\n             ('looking', 9),\n             ('difference', 4),\n             ('lifeshe', 1),\n             ('produced', 3),\n             ('film', 21),\n             ('airing', 1),\n             ('interviews', 2),\n             ('know', 10),\n             ('rebel', 2),\n             ('gunmen', 3),\n             ('take', 27),\n             ('taiz', 1),\n             ('witnesses', 4),\n             ('forces', 11),\n             ('try', 6),\n             ('regroupsaleh', 1),\n             ('saudi', 5),\n             ('arabia', 3),\n             ('treatment', 3),\n             ('being', 38),\n             ('woundeda', 1),\n             ('unrest', 3),\n             ('yemen', 1),\n             ('counterterrorism', 1),\n             ('efforts', 9),\n             ('difficult', 9),\n             ('aid', 12),\n             ('organization', 2),\n             ('evacuate', 2),\n             ('doctor', 8),\n             ('infected', 1),\n             ('ebolaliberia', 1),\n             ('closes', 3),\n             ('ebola', 3),\n             ('spreadingthis', 1),\n             ('deadliest', 1),\n             ('outbreak', 5),\n             ('disease', 4),\n             ('sending', 3),\n             ('fighters', 3),\n             ('syria', 8),\n             ('saysuspects', 1),\n             ('rounded', 1),\n             ('up', 57),\n             ('raids', 1),\n             ('early', 15),\n             ('friday', 12),\n             ('debbie', 1),\n             ('rowe', 1),\n             ('katherine', 1),\n             ('jackson', 6),\n             ('custody', 1),\n             ('agreementrowe', 1),\n             ('jacksons', 2),\n             ('exwife', 2),\n             ('kids', 14),\n             ('visitation', 1),\n             ('rightskatherine', 1),\n             ('childrens', 3),\n             ('guardianhearing', 1),\n             ('monday', 9),\n             ('los', 6),\n             ('angeles', 6),\n             ('county', 3),\n             ('superior', 2),\n             ('mark', 13),\n             ('wahlberg', 2),\n             ('petitioned', 1),\n             ('massachusetts', 1),\n             ('pardon', 1),\n             ('brutal', 2),\n             ('assaults', 1),\n             ('menjeff', 1),\n             ('yang', 1),\n             ('theres', 10),\n             ('double', 3),\n             ('standard', 3),\n             ('judge', 9),\n             ('crimes', 4),\n             ('committed', 4),\n             ('whites', 1),\n             ('blacksin', 1),\n             ('eric', 3),\n             ('garner', 1),\n             ('brown', 5),\n             ('ask', 6),\n             ('accountability', 2),\n             ('victimsyang', 1),\n             ('hasnt', 4),\n             ('even', 12),\n             ('true', 5),\n             ('remorse', 1),\n             ('repulsive', 1),\n             ('actions', 5),\n             ('council', 5),\n             ('calls', 27),\n             ('peacekeepers', 2),\n             ('takeover', 2),\n             ('julythe', 3),\n             ('troops', 15),\n             ('chad', 2),\n             ('west', 13),\n             ('african', 10),\n             ('nationswe', 1),\n             ('going', 15),\n             ('fairly', 1),\n             ('volatile', 2),\n             ('environment', 2),\n             ('north', 31),\n             ('korea', 17),\n             ('carried', 4),\n             ('underground', 2),\n             ('test', 13),\n             ('tuesdayit', 1),\n             ('third', 16),\n             ('pyongyang', 1),\n             ('sinceit', 1),\n             ('comes', 18),\n             ('sanctions', 9),\n             ('koreas', 8),\n             ('december', 7),\n             ('satellite', 1),\n             ('launchexperts', 1),\n             ('unknown', 3),\n             ('close', 7),\n             ('able', 3),\n             ('warhead', 1),\n             ('tiffany', 1),\n             ('hawk', 1),\n             ('left', 14),\n             ('legacy', 3),\n             ('measures', 3),\n             ('airlines', 7),\n             ('airportsfridays', 1),\n             ('shooting', 12),\n             ('lax', 1),\n             ('raises', 3),\n             ('concerns', 3),\n             ('sayshawk', 1),\n             ('violence', 19),\n             ('schools', 2),\n             ('malls', 1),\n             ('cinemas', 1),\n             ('prevalent', 1),\n             ('terrorismarming', 1),\n             ('airline', 3),\n             ('often', 11),\n             ('underpaid', 1),\n             ('overstressed', 1),\n             ('bad', 5),\n             ('idea', 8),\n             ('whistleblower', 1),\n             ('watchdog', 3),\n             ('overtime', 1),\n             ('abused', 3),\n             ('million', 34),\n             ('annuallycustoms', 1),\n             ('homeland', 2),\n             ('offices', 4),\n             ('engaged', 8),\n             ('gross', 1),\n             ('waste', 4),\n             ('taxpayer', 2),\n             ('fundsovertime', 1),\n             ('money', 11),\n             ('routinely', 2),\n             ('employees', 9),\n             ('spent', 11),\n             ('time', 41),\n             ('watching', 2),\n             ('tvofficial', 1),\n             ('case', 10),\n             ('isolated', 4),\n             ('raised', 6),\n             ('customs', 2),\n             ('arabias', 1),\n             ('crown', 2),\n             ('prince', 9),\n             ('convalesces', 1),\n             ('morocco', 1),\n             ('surgery', 4),\n             ('yorkillness', 1),\n             ('sultan', 1),\n             ('bin', 5),\n             ('abdulaziz', 1),\n             ('al', 17),\n             ('saud', 1),\n             ('revealedappointment', 1),\n             ('deputy', 2),\n             ('prime', 10),\n             ('minister', 23),\n             ('questions', 11),\n             ('illness', 1),\n             ('cookbook', 1),\n             ('writer', 1),\n             ('alleged', 10),\n             ('jessica', 2),\n             ('seinfeld', 3),\n             ('plagiarizedall', 1),\n             ('claims', 16),\n             ('dismissed', 2),\n             ('lawyer', 6),\n             ('saysjudge', 1),\n             ('leaves', 4),\n             ('defamation', 1),\n             ('seinfelds', 1),\n             ('jerrydefamation', 1),\n             ('relate', 1),\n             ('jerry', 1),\n             ('made', 30),\n             ('author', 6),\n             ('large', 9),\n             ('sharks', 2),\n             ('under', 20),\n             ('culling', 1),\n             ('scheme', 1),\n             ('australias', 1),\n             ('statewestern', 1),\n             ('australia', 4),\n             ('program', 10),\n             ('improve', 6),\n             ('adds', 1),\n             ('scientific', 2),\n             ('researchaccording', 1),\n             ('conservationists', 1),\n             ('there', 29),\n             ('no', 51),\n             ('evidence', 4),\n             ('successfulthe', 1),\n             ('western', 7),\n             ('years', 42),\n             ('iconic', 2),\n             ('kung', 2),\n             ('fu', 2),\n             ('star', 19),\n             ('bruce', 2),\n             ('lee', 5),\n             ('hits', 4),\n             ('top', 22),\n             ('spot', 3),\n             ('enter', 4),\n             ('dragontarantinos', 1),\n             ('genre', 1),\n             ('tributes', 3),\n             ...])"
     },
     "metadata": {},
     "execution_count": 122
    }
   ],
   "source": [
    "Y_tokenizer.word_counts"
   ]
  },
  {
   "cell_type": "code",
   "execution_count": 123,
   "metadata": {},
   "outputs": [],
   "source": [
    "def word_to_idx(data: list) -> dict:\n",
    "    \"\"\"\n",
    "    Function that maps the data and return a dictionary of words corresponding to their index\n",
    "    it gets a list\n",
    "    return:\n",
    "        dict 1 idx to word\n",
    "        dict 2 word to idx\n",
    "    \"\"\"\n",
    "    total_letters = [letters for sublist in data for subsublist in sublist for letters in subsublist]\n",
    "    unique_letters =set(total_letters)\n",
    "    total_words = [word.replace(',','') for sublist in data for subsublist in sublist for word in subsublist.split()]\n",
    "    unique_words =list(set(total_words))\n",
    "\n",
    "    w_2_i = {unique_words[i]:i for i in range(len(unique_words))}\n",
    "    i_2_w= {i: unique_words[i] for i in range(len(unique_words))}\n",
    "    print(w_2_i)\n",
    "    input()\n",
    "    return (w_2_i, i_2_w)"
   ]
  },
  {
   "cell_type": "code",
   "execution_count": 124,
   "metadata": {},
   "outputs": [],
   "source": [
    "X_train= X_tokenizer.texts_to_sequences(cleaned_text) \n",
    "y_train  = Y_tokenizer.texts_to_sequences(highlights)\n",
    "X_train = pad_sequences(X_train,  maxlen = max_ar_length, padding = 'post')\n",
    "y_train =  pad_sequences(y_train,  maxlen = max_high_lengh, padding = 'post')\n",
    "X_val = X_tokenizer.texts_to_sequences(val_text)\n",
    "y_val = Y_tokenizer.texts_to_sequences(val_highlights)\n",
    "X_val = pad_sequences(X_val,  maxlen = max_ar_length, padding = 'post')\n",
    "y_val = pad_sequences(y_val,  maxlen = max_high_lengh, padding = 'post')\n",
    "X_test = X_tokenizer.texts_to_sequences(test_text)\n",
    "X_test = pad_sequences(X_test,  maxlen = max_ar_length, padding = 'post')"
   ]
  },
  {
   "cell_type": "code",
   "execution_count": 125,
   "metadata": {
    "tags": []
   },
   "outputs": [
    {
     "output_type": "stream",
     "name": "stdout",
     "text": "1000\n100\n100\n"
    }
   ],
   "source": [
    "print(len(X_train))\n",
    "print(len(X_val))\n",
    "print(len(X_test))"
   ]
  },
  {
   "cell_type": "code",
   "execution_count": 126,
   "metadata": {
    "tags": []
   },
   "outputs": [
    {
     "output_type": "stream",
     "name": "stdout",
     "text": "1000\n100\n"
    }
   ],
   "source": [
    "print(len(y_train))\n",
    "print(len(y_val))"
   ]
  },
  {
   "cell_type": "code",
   "execution_count": 127,
   "metadata": {
    "tags": []
   },
   "outputs": [
    {
     "output_type": "execute_result",
     "data": {
      "text/plain": "3000"
     },
     "metadata": {},
     "execution_count": 127
    }
   ],
   "source": [
    "X_tokenizer.num_words"
   ]
  },
  {
   "cell_type": "code",
   "execution_count": 128,
   "metadata": {},
   "outputs": [
    {
     "output_type": "execute_result",
     "data": {
      "text/plain": "3000"
     },
     "metadata": {},
     "execution_count": 128
    }
   ],
   "source": [
    "Y_tokenizer.num_words"
   ]
  },
  {
   "cell_type": "code",
   "execution_count": 129,
   "metadata": {},
   "outputs": [
    {
     "output_type": "execute_result",
     "data": {
      "text/plain": "array([ 83, 844,  48, ...,   0,   0,   0], dtype=int32)"
     },
     "metadata": {},
     "execution_count": 129
    }
   ],
   "source": [
    "X_train[0]"
   ]
  },
  {
   "cell_type": "code",
   "execution_count": 130,
   "metadata": {},
   "outputs": [
    {
     "output_type": "execute_result",
     "data": {
      "text/plain": "array([   3,   17, 2241,  978,   10, 2242,    8,   24,  202,   15,  255,\n          6,  228,    2, 1608,  158,    2,   66, 1609,  567,   38,    1,\n        229,   95,  979,   35, 1235,  670,   25,   19,    1,   17, 1236,\n          4,    0,    0,    0,    0,    0,    0,    0,    0,    0,    0,\n          0,    0,    0,    0,    0,    0,    0,    0,    0,    0,    0,\n          0,    0,    0,    0,    0,    0,    0,    0,    0,    0,    0,\n          0,    0,    0,    0,    0,    0], dtype=int32)"
     },
     "metadata": {},
     "execution_count": 130
    }
   ],
   "source": [
    "y_train[0]"
   ]
  },
  {
   "cell_type": "code",
   "execution_count": 131,
   "metadata": {},
   "outputs": [],
   "source": [
    "X_voc = X_tokenizer.num_words"
   ]
  },
  {
   "cell_type": "code",
   "execution_count": 132,
   "metadata": {},
   "outputs": [],
   "source": [
    "y = np.array(y_train)\n",
    "x = np.array(X_train)\n",
    "x_val = np.array(X_val)\n",
    "y_val = np.array(y_val)"
   ]
  },
  {
   "cell_type": "code",
   "execution_count": 133,
   "metadata": {
    "tags": []
   },
   "outputs": [
    {
     "output_type": "stream",
     "name": "stdout",
     "text": "(1000, 1687)\n(1000, 72)\n(100, 1687)\n(100, 72)\n"
    }
   ],
   "source": [
    "print(x.shape)\n",
    "print(y.shape)\n",
    "print(x_val.shape)\n",
    "print(y_val.shape)"
   ]
  },
  {
   "cell_type": "code",
   "execution_count": 134,
   "metadata": {},
   "outputs": [
    {
     "output_type": "execute_result",
     "data": {
      "text/plain": "array([[  83,  844,   48, ...,    0,    0,    0],\n       [  32,  254,  375, ...,    0,    0,    0],\n       [2509,  125, 1032, ...,    0,    0,    0],\n       ...,\n       [ 544,   99,  381, ...,    0,    0,    0],\n       [1557,  483,  553, ...,    0,    0,    0],\n       [2792,   31,  738, ...,    0,    0,    0]], dtype=int32)"
     },
     "metadata": {},
     "execution_count": 134
    }
   ],
   "source": [
    "x"
   ]
  },
  {
   "cell_type": "code",
   "execution_count": 135,
   "metadata": {},
   "outputs": [
    {
     "output_type": "execute_result",
     "data": {
      "text/plain": "array([[   3,   17, 2241, ...,    0,    0,    0],\n       [   3, 2243, 1610, ...,    0,    0,    0],\n       [   3,  673, 2244, ...,    0,    0,    0],\n       ...,\n       [   3,    1,    6, ...,    0,    0,    0],\n       [   3,   17,    8, ...,    0,    0,    0],\n       [   3, 1535,  333, ...,    0,    0,    0]], dtype=int32)"
     },
     "metadata": {},
     "execution_count": 135
    }
   ],
   "source": [
    "y"
   ]
  },
  {
   "cell_type": "code",
   "execution_count": 136,
   "metadata": {
    "tags": [
     "outputPrepend"
    ]
   },
   "outputs": [
    {
     "output_type": "stream",
     "name": "stdout",
     "text": "[==============================] - 66s 7s/step - loss: 1.2635 - accuracy: 0.4230 - val_loss: 3.0635 - val_accuracy: 0.1119\nEpoch 362/500\n10/10 [==============================] - 66s 7s/step - loss: 1.2673 - accuracy: 0.4215 - val_loss: 3.0623 - val_accuracy: 0.1078\nEpoch 363/500\n10/10 [==============================] - 65s 7s/step - loss: 1.2597 - accuracy: 0.4235 - val_loss: 3.0666 - val_accuracy: 0.1085\nEpoch 364/500\n10/10 [==============================] - 66s 7s/step - loss: 1.2617 - accuracy: 0.4232 - val_loss: 3.0633 - val_accuracy: 0.1075\nEpoch 365/500\n10/10 [==============================] - 65s 7s/step - loss: 1.2543 - accuracy: 0.4262 - val_loss: 3.0686 - val_accuracy: 0.1092\nEpoch 366/500\n10/10 [==============================] - 66s 7s/step - loss: 1.2513 - accuracy: 0.4267 - val_loss: 3.0691 - val_accuracy: 0.1092\nEpoch 367/500\n10/10 [==============================] - 65s 6s/step - loss: 1.2516 - accuracy: 0.4285 - val_loss: 3.0775 - val_accuracy: 0.1062\nEpoch 368/500\n10/10 [==============================] - 64s 6s/step - loss: 1.2505 - accuracy: 0.4264 - val_loss: 3.0758 - val_accuracy: 0.1102\nEpoch 369/500\n10/10 [==============================] - 64s 6s/step - loss: 1.2461 - accuracy: 0.4276 - val_loss: 3.0775 - val_accuracy: 0.1085\nEpoch 370/500\n10/10 [==============================] - 65s 6s/step - loss: 1.2432 - accuracy: 0.4306 - val_loss: 3.0685 - val_accuracy: 0.1119\nEpoch 371/500\n10/10 [==============================] - 64s 6s/step - loss: 1.2388 - accuracy: 0.4314 - val_loss: 3.0795 - val_accuracy: 0.1078\nEpoch 372/500\n10/10 [==============================] - 64s 6s/step - loss: 1.2371 - accuracy: 0.4334 - val_loss: 3.0790 - val_accuracy: 0.1105\nEpoch 373/500\n10/10 [==============================] - 65s 6s/step - loss: 1.2368 - accuracy: 0.4348 - val_loss: 3.0783 - val_accuracy: 0.1098\nEpoch 374/500\n10/10 [==============================] - 65s 7s/step - loss: 1.2290 - accuracy: 0.4348 - val_loss: 3.0876 - val_accuracy: 0.1075\nEpoch 375/500\n10/10 [==============================] - 65s 6s/step - loss: 1.2285 - accuracy: 0.4358 - val_loss: 3.0848 - val_accuracy: 0.1088\nEpoch 376/500\n10/10 [==============================] - 64s 6s/step - loss: 1.2251 - accuracy: 0.4367 - val_loss: 3.0861 - val_accuracy: 0.1119\nEpoch 377/500\n10/10 [==============================] - 64s 6s/step - loss: 1.2203 - accuracy: 0.4399 - val_loss: 3.0885 - val_accuracy: 0.1052\nEpoch 378/500\n10/10 [==============================] - 64s 6s/step - loss: 1.2216 - accuracy: 0.4367 - val_loss: 3.0867 - val_accuracy: 0.1109\nEpoch 379/500\n10/10 [==============================] - 65s 6s/step - loss: 1.2184 - accuracy: 0.4401 - val_loss: 3.0914 - val_accuracy: 0.1062\nEpoch 380/500\n10/10 [==============================] - 64s 6s/step - loss: 1.2161 - accuracy: 0.4398 - val_loss: 3.0988 - val_accuracy: 0.1072\nEpoch 381/500\n10/10 [==============================] - 65s 7s/step - loss: 1.2141 - accuracy: 0.4431 - val_loss: 3.0992 - val_accuracy: 0.1048\nEpoch 382/500\n10/10 [==============================] - 65s 7s/step - loss: 1.2123 - accuracy: 0.4418 - val_loss: 3.1047 - val_accuracy: 0.1058\nEpoch 383/500\n10/10 [==============================] - 65s 7s/step - loss: 1.2078 - accuracy: 0.4463 - val_loss: 3.1002 - val_accuracy: 0.1082\nEpoch 384/500\n10/10 [==============================] - 65s 7s/step - loss: 1.2022 - accuracy: 0.4466 - val_loss: 3.0993 - val_accuracy: 0.1078\nEpoch 385/500\n10/10 [==============================] - 65s 6s/step - loss: 1.2035 - accuracy: 0.4468 - val_loss: 3.1042 - val_accuracy: 0.1062\nEpoch 386/500\n10/10 [==============================] - 65s 6s/step - loss: 1.1998 - accuracy: 0.4481 - val_loss: 3.1034 - val_accuracy: 0.1068\nEpoch 387/500\n10/10 [==============================] - 64s 6s/step - loss: 1.1986 - accuracy: 0.4479 - val_loss: 3.1083 - val_accuracy: 0.1062\nEpoch 388/500\n10/10 [==============================] - 64s 6s/step - loss: 1.1968 - accuracy: 0.4484 - val_loss: 3.1052 - val_accuracy: 0.1092\nEpoch 389/500\n10/10 [==============================] - 64s 6s/step - loss: 1.1924 - accuracy: 0.4500 - val_loss: 3.1115 - val_accuracy: 0.1055\nEpoch 390/500\n10/10 [==============================] - 65s 6s/step - loss: 1.1926 - accuracy: 0.4501 - val_loss: 3.1070 - val_accuracy: 0.1082\nEpoch 391/500\n10/10 [==============================] - 65s 7s/step - loss: 1.1917 - accuracy: 0.4508 - val_loss: 3.1049 - val_accuracy: 0.1075\nEpoch 392/500\n10/10 [==============================] - 65s 6s/step - loss: 1.1870 - accuracy: 0.4515 - val_loss: 3.1038 - val_accuracy: 0.1109\nEpoch 393/500\n10/10 [==============================] - 65s 6s/step - loss: 1.1833 - accuracy: 0.4535 - val_loss: 3.1096 - val_accuracy: 0.1065\nEpoch 394/500\n10/10 [==============================] - 65s 6s/step - loss: 1.1767 - accuracy: 0.4570 - val_loss: 3.1107 - val_accuracy: 0.1092\nEpoch 395/500\n10/10 [==============================] - 65s 6s/step - loss: 1.1793 - accuracy: 0.4551 - val_loss: 3.1138 - val_accuracy: 0.1088\nEpoch 396/500\n10/10 [==============================] - 66s 7s/step - loss: 1.1783 - accuracy: 0.4556 - val_loss: 3.1199 - val_accuracy: 0.1058\nEpoch 397/500\n10/10 [==============================] - 65s 7s/step - loss: 1.1745 - accuracy: 0.4559 - val_loss: 3.1203 - val_accuracy: 0.1068\nEpoch 398/500\n10/10 [==============================] - 65s 6s/step - loss: 1.1712 - accuracy: 0.4600 - val_loss: 3.1184 - val_accuracy: 0.1078\nEpoch 399/500\n10/10 [==============================] - 65s 6s/step - loss: 1.1706 - accuracy: 0.4597 - val_loss: 3.1254 - val_accuracy: 0.1065\nEpoch 400/500\n10/10 [==============================] - 66s 7s/step - loss: 1.1659 - accuracy: 0.4623 - val_loss: 3.1193 - val_accuracy: 0.1109\nEpoch 401/500\n10/10 [==============================] - 67s 7s/step - loss: 1.1642 - accuracy: 0.4589 - val_loss: 3.1270 - val_accuracy: 0.1068\nEpoch 402/500\n10/10 [==============================] - 67s 7s/step - loss: 1.1596 - accuracy: 0.4623 - val_loss: 3.1308 - val_accuracy: 0.1065\nEpoch 403/500\n10/10 [==============================] - 67s 7s/step - loss: 1.1595 - accuracy: 0.4604 - val_loss: 3.1300 - val_accuracy: 0.1075\nEpoch 404/500\n10/10 [==============================] - 65s 7s/step - loss: 1.1588 - accuracy: 0.4657 - val_loss: 3.1327 - val_accuracy: 0.1072\nEpoch 405/500\n10/10 [==============================] - 67s 7s/step - loss: 1.1552 - accuracy: 0.4660 - val_loss: 3.1346 - val_accuracy: 0.1072\nEpoch 406/500\n10/10 [==============================] - 64s 6s/step - loss: 1.1531 - accuracy: 0.4655 - val_loss: 3.1432 - val_accuracy: 0.1062\nEpoch 407/500\n10/10 [==============================] - 64s 6s/step - loss: 1.1500 - accuracy: 0.4672 - val_loss: 3.1412 - val_accuracy: 0.1072\nEpoch 408/500\n10/10 [==============================] - 64s 6s/step - loss: 1.1498 - accuracy: 0.4690 - val_loss: 3.1382 - val_accuracy: 0.1068\nEpoch 409/500\n10/10 [==============================] - 66s 7s/step - loss: 1.1463 - accuracy: 0.4660 - val_loss: 3.1437 - val_accuracy: 0.1055\nEpoch 410/500\n10/10 [==============================] - 65s 7s/step - loss: 1.1418 - accuracy: 0.4687 - val_loss: 3.1411 - val_accuracy: 0.1075\nEpoch 411/500\n10/10 [==============================] - 65s 6s/step - loss: 1.1400 - accuracy: 0.4694 - val_loss: 3.1393 - val_accuracy: 0.1095\nEpoch 412/500\n10/10 [==============================] - 65s 7s/step - loss: 1.1383 - accuracy: 0.4702 - val_loss: 3.1396 - val_accuracy: 0.1082\nEpoch 413/500\n10/10 [==============================] - 65s 7s/step - loss: 1.1350 - accuracy: 0.4716 - val_loss: 3.1530 - val_accuracy: 0.1045\nEpoch 414/500\n10/10 [==============================] - 64s 6s/step - loss: 1.1354 - accuracy: 0.4724 - val_loss: 3.1523 - val_accuracy: 0.1048\nEpoch 415/500\n10/10 [==============================] - 65s 7s/step - loss: 1.1317 - accuracy: 0.4715 - val_loss: 3.1479 - val_accuracy: 0.1078\nEpoch 416/500\n10/10 [==============================] - 65s 7s/step - loss: 1.1290 - accuracy: 0.4738 - val_loss: 3.1521 - val_accuracy: 0.1085\nEpoch 417/500\n10/10 [==============================] - 65s 6s/step - loss: 1.1282 - accuracy: 0.4759 - val_loss: 3.1541 - val_accuracy: 0.1065\nEpoch 418/500\n10/10 [==============================] - 66s 7s/step - loss: 1.1265 - accuracy: 0.4746 - val_loss: 3.1501 - val_accuracy: 0.1068\nEpoch 419/500\n10/10 [==============================] - 65s 7s/step - loss: 1.1247 - accuracy: 0.4759 - val_loss: 3.1567 - val_accuracy: 0.1068\nEpoch 420/500\n10/10 [==============================] - 66s 7s/step - loss: 1.1210 - accuracy: 0.4769 - val_loss: 3.1506 - val_accuracy: 0.1062\nEpoch 421/500\n10/10 [==============================] - 66s 7s/step - loss: 1.1184 - accuracy: 0.4802 - val_loss: 3.1607 - val_accuracy: 0.1045\nEpoch 422/500\n10/10 [==============================] - 66s 7s/step - loss: 1.1151 - accuracy: 0.4811 - val_loss: 3.1617 - val_accuracy: 0.1055\nEpoch 423/500\n10/10 [==============================] - 66s 7s/step - loss: 1.1133 - accuracy: 0.4816 - val_loss: 3.1597 - val_accuracy: 0.1075\nEpoch 424/500\n10/10 [==============================] - 65s 6s/step - loss: 1.1092 - accuracy: 0.4781 - val_loss: 3.1649 - val_accuracy: 0.1048\nEpoch 425/500\n10/10 [==============================] - 65s 6s/step - loss: 1.1097 - accuracy: 0.4815 - val_loss: 3.1576 - val_accuracy: 0.1088\nEpoch 426/500\n10/10 [==============================] - 65s 7s/step - loss: 1.1082 - accuracy: 0.4815 - val_loss: 3.1673 - val_accuracy: 0.1045\nEpoch 427/500\n10/10 [==============================] - 65s 6s/step - loss: 1.1054 - accuracy: 0.4838 - val_loss: 3.1692 - val_accuracy: 0.1048\nEpoch 428/500\n10/10 [==============================] - 66s 7s/step - loss: 1.1059 - accuracy: 0.4826 - val_loss: 3.1719 - val_accuracy: 0.1045\nEpoch 429/500\n10/10 [==============================] - 67s 7s/step - loss: 1.1012 - accuracy: 0.4853 - val_loss: 3.1791 - val_accuracy: 0.1031\nEpoch 430/500\n10/10 [==============================] - 66s 7s/step - loss: 1.0999 - accuracy: 0.4862 - val_loss: 3.1732 - val_accuracy: 0.1072\nEpoch 431/500\n10/10 [==============================] - 66s 7s/step - loss: 1.0972 - accuracy: 0.4862 - val_loss: 3.1760 - val_accuracy: 0.1065\nEpoch 432/500\n10/10 [==============================] - 66s 7s/step - loss: 1.0954 - accuracy: 0.4898 - val_loss: 3.1770 - val_accuracy: 0.1045\nEpoch 433/500\n10/10 [==============================] - 66s 7s/step - loss: 1.0907 - accuracy: 0.4905 - val_loss: 3.1800 - val_accuracy: 0.1082\nEpoch 434/500\n10/10 [==============================] - 65s 7s/step - loss: 1.0963 - accuracy: 0.4877 - val_loss: 3.1839 - val_accuracy: 0.1025\nEpoch 435/500\n10/10 [==============================] - 65s 7s/step - loss: 1.0871 - accuracy: 0.4929 - val_loss: 3.1805 - val_accuracy: 0.1078\nEpoch 436/500\n10/10 [==============================] - 68s 7s/step - loss: 1.0852 - accuracy: 0.4930 - val_loss: 3.1791 - val_accuracy: 0.1092\nEpoch 437/500\n10/10 [==============================] - 68s 7s/step - loss: 1.0867 - accuracy: 0.4904 - val_loss: 3.1896 - val_accuracy: 0.1038\nEpoch 438/500\n10/10 [==============================] - 66s 7s/step - loss: 1.0807 - accuracy: 0.4940 - val_loss: 3.1815 - val_accuracy: 0.1075\nEpoch 439/500\n10/10 [==============================] - 67s 7s/step - loss: 1.0761 - accuracy: 0.4960 - val_loss: 3.1831 - val_accuracy: 0.1058\nEpoch 440/500\n10/10 [==============================] - 68s 7s/step - loss: 1.0797 - accuracy: 0.4897 - val_loss: 3.1871 - val_accuracy: 0.1075\nEpoch 441/500\n10/10 [==============================] - 70s 7s/step - loss: 1.0725 - accuracy: 0.4974 - val_loss: 3.1946 - val_accuracy: 0.1082\nEpoch 442/500\n10/10 [==============================] - 70s 7s/step - loss: 1.0757 - accuracy: 0.4983 - val_loss: 3.1972 - val_accuracy: 0.1018\nEpoch 443/500\n10/10 [==============================] - 68s 7s/step - loss: 1.0706 - accuracy: 0.4991 - val_loss: 3.1944 - val_accuracy: 0.1062\nEpoch 444/500\n10/10 [==============================] - 65s 7s/step - loss: 1.0671 - accuracy: 0.5007 - val_loss: 3.1995 - val_accuracy: 0.0998\nEpoch 445/500\n10/10 [==============================] - 65s 7s/step - loss: 1.0684 - accuracy: 0.5002 - val_loss: 3.2027 - val_accuracy: 0.1048\nEpoch 446/500\n10/10 [==============================] - 66s 7s/step - loss: 1.0679 - accuracy: 0.4984 - val_loss: 3.1953 - val_accuracy: 0.1028\nEpoch 447/500\n10/10 [==============================] - 65s 7s/step - loss: 1.0665 - accuracy: 0.4981 - val_loss: 3.2032 - val_accuracy: 0.1031\nEpoch 448/500\n10/10 [==============================] - 66s 7s/step - loss: 1.0614 - accuracy: 0.5018 - val_loss: 3.1950 - val_accuracy: 0.1042\nEpoch 449/500\n10/10 [==============================] - 67s 7s/step - loss: 1.0586 - accuracy: 0.5030 - val_loss: 3.2034 - val_accuracy: 0.1035\nEpoch 450/500\n10/10 [==============================] - 66s 7s/step - loss: 1.0567 - accuracy: 0.5011 - val_loss: 3.2015 - val_accuracy: 0.1048\nEpoch 451/500\n10/10 [==============================] - 65s 6s/step - loss: 1.0551 - accuracy: 0.5045 - val_loss: 3.2080 - val_accuracy: 0.1048\nEpoch 452/500\n10/10 [==============================] - 65s 7s/step - loss: 1.0535 - accuracy: 0.5022 - val_loss: 3.2107 - val_accuracy: 0.1035\nEpoch 453/500\n10/10 [==============================] - 66s 7s/step - loss: 1.0494 - accuracy: 0.5055 - val_loss: 3.2156 - val_accuracy: 0.1028\nEpoch 454/500\n10/10 [==============================] - 67s 7s/step - loss: 1.0490 - accuracy: 0.5064 - val_loss: 3.2026 - val_accuracy: 0.1065\nEpoch 455/500\n10/10 [==============================] - 66s 7s/step - loss: 1.0491 - accuracy: 0.5075 - val_loss: 3.2059 - val_accuracy: 0.1055\nEpoch 456/500\n10/10 [==============================] - 67s 7s/step - loss: 1.0435 - accuracy: 0.5082 - val_loss: 3.2086 - val_accuracy: 0.1065\nEpoch 457/500\n10/10 [==============================] - 65s 7s/step - loss: 1.0400 - accuracy: 0.5141 - val_loss: 3.2105 - val_accuracy: 0.1058\nEpoch 458/500\n10/10 [==============================] - 65s 7s/step - loss: 1.0444 - accuracy: 0.5058 - val_loss: 3.2180 - val_accuracy: 0.1018\nEpoch 459/500\n10/10 [==============================] - 68s 7s/step - loss: 1.0381 - accuracy: 0.5127 - val_loss: 3.2209 - val_accuracy: 0.1035\nEpoch 460/500\n10/10 [==============================] - 66s 7s/step - loss: 1.0346 - accuracy: 0.5155 - val_loss: 3.2169 - val_accuracy: 0.1025\nEpoch 461/500\n10/10 [==============================] - 65s 7s/step - loss: 1.0361 - accuracy: 0.5100 - val_loss: 3.2173 - val_accuracy: 0.1058\nEpoch 462/500\n10/10 [==============================] - 69s 7s/step - loss: 1.0321 - accuracy: 0.5128 - val_loss: 3.2225 - val_accuracy: 0.1028\nEpoch 463/500\n10/10 [==============================] - 68s 7s/step - loss: 1.0319 - accuracy: 0.5128 - val_loss: 3.2191 - val_accuracy: 0.1031\nEpoch 464/500\n10/10 [==============================] - 67s 7s/step - loss: 1.0305 - accuracy: 0.5159 - val_loss: 3.2259 - val_accuracy: 0.1055\nEpoch 465/500\n10/10 [==============================] - 67s 7s/step - loss: 1.0274 - accuracy: 0.5117 - val_loss: 3.2252 - val_accuracy: 0.1031\nEpoch 466/500\n10/10 [==============================] - 66s 7s/step - loss: 1.0274 - accuracy: 0.5124 - val_loss: 3.2308 - val_accuracy: 0.1021\nEpoch 467/500\n10/10 [==============================] - 67s 7s/step - loss: 1.0229 - accuracy: 0.5151 - val_loss: 3.2369 - val_accuracy: 0.1011\nEpoch 468/500\n10/10 [==============================] - 69s 7s/step - loss: 1.0213 - accuracy: 0.5156 - val_loss: 3.2372 - val_accuracy: 0.1005\nEpoch 469/500\n10/10 [==============================] - 69s 7s/step - loss: 1.0188 - accuracy: 0.5172 - val_loss: 3.2313 - val_accuracy: 0.1011\nEpoch 470/500\n10/10 [==============================] - 71s 7s/step - loss: 1.0179 - accuracy: 0.5214 - val_loss: 3.2398 - val_accuracy: 0.0995\nEpoch 471/500\n10/10 [==============================] - 72s 7s/step - loss: 1.0125 - accuracy: 0.5220 - val_loss: 3.2388 - val_accuracy: 0.1021\nEpoch 472/500\n10/10 [==============================] - 66s 7s/step - loss: 1.0130 - accuracy: 0.5208 - val_loss: 3.2491 - val_accuracy: 0.1021\nEpoch 473/500\n10/10 [==============================] - 66s 7s/step - loss: 1.0141 - accuracy: 0.5193 - val_loss: 3.2438 - val_accuracy: 0.1001\nEpoch 474/500\n10/10 [==============================] - 68s 7s/step - loss: 1.0101 - accuracy: 0.5231 - val_loss: 3.2436 - val_accuracy: 0.1021\nEpoch 475/500\n10/10 [==============================] - 68s 7s/step - loss: 1.0068 - accuracy: 0.5235 - val_loss: 3.2464 - val_accuracy: 0.1008\nEpoch 476/500\n10/10 [==============================] - 67s 7s/step - loss: 1.0087 - accuracy: 0.5236 - val_loss: 3.2476 - val_accuracy: 0.1025\nEpoch 477/500\n10/10 [==============================] - 66s 7s/step - loss: 1.0047 - accuracy: 0.5240 - val_loss: 3.2425 - val_accuracy: 0.1008\nEpoch 478/500\n10/10 [==============================] - 69s 7s/step - loss: 1.0035 - accuracy: 0.5247 - val_loss: 3.2452 - val_accuracy: 0.1035\nEpoch 479/500\n10/10 [==============================] - 67s 7s/step - loss: 1.0015 - accuracy: 0.5256 - val_loss: 3.2486 - val_accuracy: 0.1031\nEpoch 480/500\n10/10 [==============================] - 68s 7s/step - loss: 1.0032 - accuracy: 0.5251 - val_loss: 3.2509 - val_accuracy: 0.1021\nEpoch 481/500\n10/10 [==============================] - 67s 7s/step - loss: 0.9961 - accuracy: 0.5272 - val_loss: 3.2549 - val_accuracy: 0.1001\nEpoch 482/500\n10/10 [==============================] - 68s 7s/step - loss: 0.9997 - accuracy: 0.5250 - val_loss: 3.2548 - val_accuracy: 0.1028\nEpoch 483/500\n10/10 [==============================] - 68s 7s/step - loss: 0.9920 - accuracy: 0.5284 - val_loss: 3.2587 - val_accuracy: 0.1042\nEpoch 484/500\n10/10 [==============================] - 69s 7s/step - loss: 0.9933 - accuracy: 0.5322 - val_loss: 3.2579 - val_accuracy: 0.1062\nEpoch 485/500\n10/10 [==============================] - 69s 7s/step - loss: 0.9905 - accuracy: 0.5271 - val_loss: 3.2574 - val_accuracy: 0.1028\nEpoch 486/500\n10/10 [==============================] - 69s 7s/step - loss: 0.9865 - accuracy: 0.5314 - val_loss: 3.2688 - val_accuracy: 0.0998\nEpoch 487/500\n10/10 [==============================] - 70s 7s/step - loss: 0.9820 - accuracy: 0.5357 - val_loss: 3.2680 - val_accuracy: 0.1015\nEpoch 488/500\n10/10 [==============================] - 71s 7s/step - loss: 0.9849 - accuracy: 0.5303 - val_loss: 3.2716 - val_accuracy: 0.0985\nEpoch 489/500\n10/10 [==============================] - 71s 7s/step - loss: 0.9801 - accuracy: 0.5371 - val_loss: 3.2664 - val_accuracy: 0.1025\nEpoch 490/500\n10/10 [==============================] - 72s 7s/step - loss: 0.9818 - accuracy: 0.5325 - val_loss: 3.2753 - val_accuracy: 0.1008\nEpoch 491/500\n10/10 [==============================] - 66s 7s/step - loss: 0.9793 - accuracy: 0.5357 - val_loss: 3.2679 - val_accuracy: 0.1042\nEpoch 492/500\n10/10 [==============================] - 68s 7s/step - loss: 0.9733 - accuracy: 0.5380 - val_loss: 3.2770 - val_accuracy: 0.1018\nEpoch 493/500\n10/10 [==============================] - 66s 7s/step - loss: 0.9794 - accuracy: 0.5349 - val_loss: 3.2771 - val_accuracy: 0.1005\nEpoch 494/500\n10/10 [==============================] - 66s 7s/step - loss: 0.9748 - accuracy: 0.5362 - val_loss: 3.2781 - val_accuracy: 0.0978\nEpoch 495/500\n10/10 [==============================] - 69s 7s/step - loss: 0.9736 - accuracy: 0.5370 - val_loss: 3.2706 - val_accuracy: 0.1025\nEpoch 496/500\n10/10 [==============================] - 66s 7s/step - loss: 0.9722 - accuracy: 0.5380 - val_loss: 3.2708 - val_accuracy: 0.1005\nEpoch 497/500\n10/10 [==============================] - 64s 6s/step - loss: 0.9665 - accuracy: 0.5379 - val_loss: 3.2794 - val_accuracy: 0.1025\nEpoch 498/500\n10/10 [==============================] - 65s 7s/step - loss: 0.9676 - accuracy: 0.5394 - val_loss: 3.2769 - val_accuracy: 0.1028\nEpoch 499/500\n10/10 [==============================] - 66s 7s/step - loss: 0.9628 - accuracy: 0.5400 - val_loss: 3.2844 - val_accuracy: 0.1001\nEpoch 500/500\n10/10 [==============================] - 66s 7s/step - loss: 0.9622 - accuracy: 0.5400 - val_loss: 3.2859 - val_accuracy: 0.1008\n"
    }
   ],
   "source": [
    "\n",
    "from keras import backend as K \n",
    "K.clear_session()  #Resets all state generated by Keras\n",
    "\n",
    "latent_dim = 100\n",
    "embedding_dim = 100\n",
    "\n",
    "# Encoder\n",
    "encoder_inputs = Input(shape=(x.shape[1],))\n",
    "\n",
    "# TODO: understand how embedding works here; is this our own trained embedding? maybe we should just use word2vec\n",
    "#embedding layer\n",
    "enc_emb =  Embedding(X_voc, embedding_dim,trainable=True, mask_zero=True)(encoder_inputs)\n",
    "\n",
    "#encoder lstm\n",
    "# TODO: why are we not using an activation function? default is none, only for recurrent activation the default is sigmoid\n",
    "encoder_lstm = LSTM(latent_dim,return_sequences=True,return_state=True, dropout = 0.4, recurrent_dropout = 0.4)\n",
    "encoder_outputs, state_h, state_c = encoder_lstm(enc_emb)\n",
    "\n",
    "#Setting up the Decoder using 'encoder_states' as initial state\n",
    "decoder_inputs = Input(shape=((y.shape[1] - 1),))\n",
    "\n",
    "#Embedding layer\n",
    "dec_emb_layer = Embedding(Y_voc, embedding_dim,trainable=True, mask_zero=True)\n",
    "dec_emb = dec_emb_layer(decoder_inputs)\n",
    "\n",
    "decoder_lstm = LSTM(latent_dim, return_sequences=True, return_state=True, dropout = 0.4, recurrent_dropout = 0.4)\n",
    "decoder_outputs ,decoder_fwd_state, decoder_back_state = decoder_lstm(dec_emb ,initial_state=[state_h, state_c])\n",
    "\n",
    "# #Attention layer; removed for now\n",
    "# attn_layer = AttentionLayer(name='attention_layer')\n",
    "# attn_out, attn_states = attn_layer([encoder_outputs, decoder_outputs])\n",
    "\n",
    "# #Concating Attention input and Decoder LSTM output\n",
    "# decoder_concat_input = Concatenate(axis=-1, name='concat_layer')([decoder_outputs, attn_out])\n",
    "\n",
    "#Dense layer\n",
    "# TODO: figure out what TimeDistributed does\n",
    "decoder_dense =  TimeDistributed(Dense(units = Y_voc, activation='softmax'))\n",
    "decoder_outputs = decoder_dense(decoder_outputs)\n",
    "\n",
    "#Defining the model \n",
    "model = Model([encoder_inputs, decoder_inputs], decoder_outputs)\n",
    "\n",
    "model.summary()\n",
    "\n",
    "#Visualize the Model\n",
    "from tensorflow.keras.utils import plot_model\n",
    "\n",
    "plot_model(model, to_file='training_model_plot.png', show_shapes=True, show_layer_names=True)\n",
    "\n",
    "# TODO: understand this\n",
    "#Adding Metrics\n",
    "model.compile(optimizer='rmsprop' , loss='sparse_categorical_crossentropy' , metrics=['accuracy'])\n",
    "\n",
    "#Adding Callback\n",
    "# TODO: how exactly does this work? is there an internal mapping of the string \"val_loss\" to running a test on the specified validation_data?\n",
    "es = EarlyStopping(monitor='val_loss', mode='min', verbose=1, patience = 5)\n",
    "\n",
    "# Commented out IPython magic to ensure Python compatibility.\n",
    "#Training the Model\n",
    "# %tensorflow_version 1.x\n",
    "# indexing is clear, removing the eos token for the decoder inpu\n",
    "# ts and removing the sos token for the decoder outputs\n",
    "# TODO: think about how exactly this is working with calculating the loss etc., maybe that's the problem\n",
    "# TODO: fit only on one example and check if model actually works\n",
    "# this creates the third dimension we need to compare to the generated output of the decoder; basically creates \"one-hot encoding\" to generate the probability distribution\n",
    "history = model.fit(\n",
    "    x = [x,y[:,:-1]], \n",
    "    y = y.reshape(y.shape[0], y.shape[1], 1)[:, 1:, :],\n",
    "    epochs=500,\n",
    "    batch_size = 100,\n",
    "    validation_data=([x_val,y_val[:,:-1]], y_val.reshape(y_val.shape[0],y_val.shape[1], 1)[:,1:])\n",
    ")\n",
    "\n",
    "\n"
   ]
  },
  {
   "cell_type": "code",
   "execution_count": 148,
   "metadata": {
    "tags": []
   },
   "outputs": [
    {
     "output_type": "stream",
     "name": "stdout",
     "text": "WARNING:tensorflow:Model was constructed with shape (None, 71) for input KerasTensor(type_spec=TensorSpec(shape=(None, 71), dtype=tf.float32, name='input_2'), name='input_2', description=\"created by layer 'input_2'\"), but it was called on an input with incompatible shape (None, 1).\n"
    }
   ],
   "source": [
    "#Building Dictionary for Source Vocabulary\n",
    "# TODO: what is happening here? we are just saving the vocabularies of the tokenizers (index -> word or word -> index maps)\n",
    "target_index_word=Y_tokenizer.index_word \n",
    "source_index_word=X_tokenizer.index_word \n",
    "target_word_index=Y_tokenizer.word_index\n",
    "\n",
    "#Testing phase\n",
    "#Encoding the input sequence to get the feature vector\n",
    "# TODO: is this what links this model to the trained model? that we use the same encoder_inputs Input object?\n",
    "encoder_model = Model(inputs=encoder_inputs,outputs=[encoder_outputs, state_h, state_c])\n",
    "\n",
    "#Decoder setup\n",
    "#These tensors will hold the states of the previous time step\n",
    "decoder_state_input_h = Input(shape=(latent_dim,))\n",
    "decoder_state_input_c = Input(shape=(latent_dim,))\n",
    "# TODO: remove this, probably only used for attention\n",
    "# decoder_hidden_state_input = Input(shape=(max_text_len,latent_dim))\n",
    "\n",
    "#Getting the embeddings of the decoder sequence\n",
    "dec_emb2= dec_emb_layer(decoder_inputs) \n",
    "\n",
    "#Setting the initial states to the states from the previous time step for better prediction\n",
    "decoder_outputs2, state_h2, state_c2 = decoder_lstm(dec_emb2, initial_state=[decoder_state_input_h, decoder_state_input_c])\n",
    "\n",
    "# TODO: remove this\n",
    "# #Attention inference\n",
    "# attn_out_inf, attn_states_inf = attn_layer([decoder_hidden_state_input, decoder_outputs2])\n",
    "# decoder_inf_concat = Concatenate(axis=-1, name='concat')([decoder_outputs2, attn_out_inf])\n",
    "\n",
    "#Adding Dense softmax layer to generate proability distribution over the target vocabulary\n",
    "decoder_outputs2 = decoder_dense(decoder_outputs2) \n",
    "\n",
    "#Final Decoder model\n",
    "# TODO: how is this all linked to what we trained before? where does the parameter sharing happen?\n",
    "# TODO: why are we appending the lists instead of just writing it in one list\n",
    "decoder_model = Model(\n",
    "    [decoder_inputs] + [decoder_state_input_h, decoder_state_input_c],\n",
    "    [decoder_outputs2] + [state_h2, state_c2])\n",
    "\n",
    "#Function defining the implementation of inference process\n",
    "def decode_sequence(input_seq):\n",
    "    #Encoding the input as state vectors\n",
    "    e_out, e_h, e_c = encoder_model.predict(input_seq)\n",
    "    \n",
    "    #Generating empty target sequence of length 1\n",
    "    target_seq = np.zeros((1,1))\n",
    "    \n",
    "    #Populating the first word of target sequence with the start word\n",
    "    target_seq[0, 0] = target_word_index['sos']\n",
    "\n",
    "    stop_condition = False\n",
    "    decoded_sentence = ''\n",
    "    while not stop_condition:\n",
    "        \n",
    "        output_tokens, h, c = decoder_model.predict([target_seq] + [e_h, e_c])\n",
    "\n",
    "        #Sampling a token\n",
    "        # TODO: understand the indexing: why -1 instead of 0 as well? shouldn't the output tokens be of shape (1, 1, num_words)?\n",
    "        # TODO: I think the neurons in the dense layer start at 0 but our dictionary starts at 1, despite a one-on-one mapping from\n",
    "        # dictionary index numbers to neurons if I understand correctly; doesn't make sense to make, programm will crash if arg_max returns zero\n",
    "        sampled_token_index = np.argmax(output_tokens[0, -1, :])\n",
    "        sampled_token = target_index_word[sampled_token_index]\n",
    "        \n",
    "        if(sampled_token!='eos'):\n",
    "            decoded_sentence += ' '+sampled_token\n",
    "\n",
    "        #Exit condition: either hit max length or find stop word\n",
    "        # TODO: it used to be >= (max_abstract_len - 1); why? doesn't make sense to me\n",
    "        if (sampled_token == 'eos'  or len(decoded_sentence.split()) == max_high_lengh):\n",
    "            stop_condition = True\n",
    "\n",
    "        #Updating the target sequence (of length 1)\n",
    "        target_seq = np.zeros((1,1))\n",
    "        target_seq[0, 0] = sampled_token_index\n",
    "\n",
    "        #Updating internal states\n",
    "        e_h, e_c = h, c\n",
    "\n",
    "    return decoded_sentence\n",
    "\n",
    "#Functions to convert an integer sequence to a word sequence for summary as well as reviews \n",
    "def seq2summary(input_seq):\n",
    "    newString=''\n",
    "    for i in input_seq:\n",
    "        if((i!=0 and i!=target_word_index['sos']) and i!=target_word_index['eos']):\n",
    "            newString=newString+target_index_word[i]+' '\n",
    "    return newString\n",
    "\n",
    "def seq2text(input_seq):\n",
    "    newString=''\n",
    "    for i in input_seq:\n",
    "        if(i!=0):\n",
    "            newString=newString+source_index_word[i]+' '\n",
    "    return newString\n",
    "\n",
    "#Summaries generated by the model\n",
    "X_test = np.array(X_test)\n",
    "results_file = open(\"results.txt\", \"w\")\n",
    "for i in range(len(test_text)):\n",
    "    original_article = f\"Original article:\\n {test_text[i]}\\n\\n\"\n",
    "    original_summary = f\"Original summary:\\n {test_highlights[i]}\\n\\n\"\n",
    "    predicted_summary = f\"Predicted summary:\\n {decode_sequence(X_test[i].reshape(1,-1))}\\n\\n\"\n",
    "    results_file.writelines([original_article, original_summary, predicted_summary])\n",
    "results_file.close()\n",
    "    \n",
    "    "
   ]
  },
  {
   "cell_type": "code",
   "execution_count": 150,
   "metadata": {},
   "outputs": [
    {
     "output_type": "execute_result",
     "data": {
      "image/png": "[encoded data removed]",
      "text/plain": "<IPython.core.display.Image object>"
     },
     "metadata": {},
     "execution_count": 150
    }
   ],
   "source": [
    "plot_model(encoder_model, to_file='prediction_model_encoder_plot.png', show_shapes=True, show_layer_names=True)"
   ]
  },
  {
   "cell_type": "code",
   "execution_count": 151,
   "metadata": {},
   "outputs": [
    {
     "output_type": "execute_result",
     "data": {
      "image/png": "[encoded data removed]",
      "text/plain": "<IPython.core.display.Image object>"
     },
     "metadata": {},
     "execution_count": 151
    }
   ],
   "source": [
    "plot_model(decoder_model, to_file='prediction_model_decoder_plot.png', show_shapes=True, show_layer_names=True)"
   ]
  }
 ],
 "metadata": {
  "interpreter": {
   "hash": "e26081387c8990b949948d3d3fd7f7a4bc3bad723d6b8652b3d4ab339298fb31"
  },
  "kernelspec": {
   "display_name": "Python 3.8.0 64-bit",
   "language": "python",
   "name": "python38064bit8c5ff504779d4c0db4df09f0210e7c63"
  },
  "language_info": {
   "codemirror_mode": {
    "name": "ipython",
    "version": 3
   },
   "file_extension": ".py",
   "mimetype": "text/x-python",
   "name": "python",
   "nbconvert_exporter": "python",
   "pygments_lexer": "ipython3",
   "version": "3.8.0-final"
  },
  "orig_nbformat": 4
 },
 "nbformat": 4,
 "nbformat_minor": 2
}