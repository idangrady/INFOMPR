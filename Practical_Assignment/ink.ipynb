{
 "cells": [
  {
   "cell_type": "markdown",
   "metadata": {},
   "source": [
    "### Imports"
   ]
  },
  {
   "cell_type": "code",
   "execution_count": 62,
   "metadata": {},
   "outputs": [],
   "source": [
    "import pandas as pd\n",
    "import numpy as np\n",
    "\n",
    "import matplotlib.pyplot as plt\n",
    "\n",
    "from sklearn import metrics\n",
    "\n",
    "from sklearn.preprocessing import scale\n",
    "\n",
    "from sklearn.linear_model import LogisticRegression, LogisticRegressionCV\n",
    "from sklearn.model_selection import GridSearchCV, RandomizedSearchCV\n",
    "from sklearn.neural_network import MLPClassifier\n",
    "from sklearn.svm import SVC\n",
    "\n",
    "import cv2"
   ]
  },
  {
   "cell_type": "markdown",
   "metadata": {},
   "source": [
    "### Reading data"
   ]
  },
  {
   "cell_type": "code",
   "execution_count": 63,
   "metadata": {},
   "outputs": [],
   "source": [
    "# Read data\n",
    "mnist_data = pd.read_csv('mnist.csv').values\n",
    "\n",
    "# Split labels and pixel_data\n",
    "digit_labels = mnist_data[:, 0]\n",
    "pixel_data   = mnist_data[:, 1:]\n",
    "\n",
    "# Determine amont of rows and columns\n",
    "nr_of_rows_in_data, nr_of_cols_in_data = pixel_data.shape\n",
    "\n",
    "# Enumerate digits 0..9\n",
    "digits = np.array(range(10)).astype('int')"
   ]
  },
  {
   "cell_type": "markdown",
   "metadata": {},
   "source": [
    "### Plot an image from the data"
   ]
  },
  {
   "cell_type": "code",
   "execution_count": 64,
   "metadata": {},
   "outputs": [
    {
     "data": {
      "image/png": "[encoded data removed]",
      "text/plain": [
       "<Figure size 432x288 with 1 Axes>"
      ]
     },
     "metadata": {
      "needs_background": "light"
     },
     "output_type": "display_data"
    }
   ],
   "source": [
    "# Plot the image 'image_number' from the data\n",
    "image_number = 0\n",
    "\n",
    "img_size = 28\n",
    "\n",
    "plt.imshow(pixel_data[image_number].reshape(img_size, img_size))\n",
    "plt.show()"
   ]
  },
  {
   "cell_type": "markdown",
   "metadata": {},
   "source": [
    "### Ink feature"
   ]
  },
  {
   "cell_type": "code",
   "execution_count": 65,
   "metadata": {},
   "outputs": [
    {
     "name": "stdout",
     "output_type": "stream",
     "text": [
      " Digit         Mean  Standard Deviation\n",
      "   0.0 34632.407551         8461.892043\n",
      "   1.0 15188.466268         4409.461697\n",
      "   2.0 29871.099354         7653.006199\n",
      "   3.0 28320.188003         7574.104536\n",
      "   4.0 24232.722495         6374.633457\n",
      "   5.0 25835.920422         7526.602989\n",
      "   6.0 27734.917331         7530.503187\n",
      "   7.0 22931.244263         6168.340878\n",
      "   8.0 30184.148413         7777.396357\n",
      "   9.0 24553.750000         6465.231330\n"
     ]
    },
    {
     "data": {
      "text/plain": [
       "<ErrorbarContainer object of 3 artists>"
      ]
     },
     "execution_count": 65,
     "metadata": {},
     "output_type": "execute_result"
    },
    {
     "data": {
      "image/png": "[encoded data removed]",
      "text/plain": [
       "<Figure size 432x288 with 1 Axes>"
      ]
     },
     "metadata": {
      "needs_background": "light"
     },
     "output_type": "display_data"
    }
   ],
   "source": [
    "# Determine amount of ink for each image\n",
    "ink = np.array([sum(image) for image in pixel_data])\n",
    "\n",
    "# Compute mean and standard deviation for the ink for each digit \n",
    "ink_mean = [np.mean(ink[digit_labels == i]) for i in digits]\n",
    "ink_std  = [np.std(ink[digit_labels == i])  for i in digits]\n",
    "\n",
    "# Print the mean and standard deviation for each digit in a dataframe\n",
    "ink_all_values = np.column_stack((digits, ink_mean, ink_std))\n",
    "ink_dataframe  = pd.DataFrame(data = ink_all_values, columns = ['Digit','Mean', 'Standard Deviation'])\n",
    "\n",
    "print(ink_dataframe.to_string(index = False))\n",
    "\n",
    "# Plot the mean and standard deviation for each digit\n",
    "plt.errorbar(digits, ink_mean, ink_std, linestyle = 'None', marker = 'o')"
   ]
  },
  {
   "cell_type": "markdown",
   "metadata": {},
   "source": [
    "Low values between 12000 and 18000 (or even lower) likely point to digit '1'\n",
    "\n",
    "High values above 38000 are most probably the digit '0'\n",
    "\n",
    "For values inbetween, the amounts of ink are very close\n",
    "\n",
    "'0'    34632\n",
    "'1'    15188\n",
    "'2'    29871\n",
    "'3'    28230\n",
    "'4'    24232\n",
    "'5'    25835\n",
    "'6'    27734\n",
    "'7'    22931\n",
    "'8'    30184\n",
    "'9'    24553\n",
    "\n",
    "0 -> 8 -> 2 -> 3 -> 6 -> 5 -> 9 -> 4 -> 7 -> 1"
   ]
  },
  {
   "cell_type": "markdown",
   "metadata": {},
   "source": [
    "#### Reshape ink data"
   ]
  },
  {
   "cell_type": "code",
   "execution_count": 66,
   "metadata": {},
   "outputs": [],
   "source": [
    "# Reshape to a single feature for Logistic Regression\n",
    "ink_reshaped = scale(ink).reshape(-1, 1)"
   ]
  },
  {
   "cell_type": "markdown",
   "metadata": {},
   "source": [
    "### Logistic Regression (l_1 and l_2 penalty)"
   ]
  },
  {
   "cell_type": "code",
   "execution_count": 73,
   "metadata": {},
   "outputs": [],
   "source": [
    "# Fit Logistic Regression (l1) model to full data\n",
    "logistic_regression_model_l1 = LogisticRegression(penalty = 'l1', solver = 'liblinear')\n",
    "logistic_regression_model_l1.fit(ink_reshaped, digit_labels)\n",
    "\n",
    "# Get predictions on full data\n",
    "digit_labels_predictions_l1 = logistic_regression_model_l1.predict(ink_reshaped)\n",
    "\n",
    "# Print the confusion matrix, accuracy etc.\n",
    "confusion_matrix_l1 = metrics.confusion_matrix(digit_labels, digit_labels_predictions_l1)\n",
    "accuracy_l1         = metrics.accuracy_score(digit_labels, digit_labels_predictions_l1)"
   ]
  },
  {
   "cell_type": "code",
   "execution_count": 74,
   "metadata": {},
   "outputs": [],
   "source": [
    "# Fit Logistic Regression (l2) model to full data\n",
    "logistic_regression_model_l2 = LogisticRegression(penalty = 'l2', solver = 'liblinear')\n",
    "logistic_regression_model_l2.fit(ink_reshaped, digit_labels)\n",
    "\n",
    "# Get predictions on full data\n",
    "digit_labels_predictions_l2 = logistic_regression_model_l2.predict(ink_reshaped)\n",
    "\n",
    "# Print the confusion matrix, accuracy etc.\n",
    "confusion_matrix_l2 = metrics.confusion_matrix(digit_labels, digit_labels_predictions_l2)\n",
    "accuracy_l2         = metrics.accuracy_score(digit_labels, digit_labels_predictions_l2)"
   ]
  },
  {
   "cell_type": "markdown",
   "metadata": {},
   "source": [
    "#### Predicting majority class"
   ]
  },
  {
   "cell_type": "code",
   "execution_count": 75,
   "metadata": {},
   "outputs": [],
   "source": [
    "# Prediction of majority class\n",
    "majority_class_row_count = np.bincount(digit_labels).max()\n",
    "majority_class_prediction_accuracy = majority_class_row_count / nr_of_rows_in_data"
   ]
  },
  {
   "cell_type": "markdown",
   "metadata": {},
   "source": [
    "#### Confusion matrices and accuracies"
   ]
  },
  {
   "cell_type": "code",
   "execution_count": 76,
   "metadata": {},
   "outputs": [
    {
     "name": "stdout",
     "output_type": "stream",
     "text": [
      "[[2609   99   85  873    0    0    0  466    0    0]\n",
      " [  13 3970    0  103    0    0    0  598    0    0]\n",
      " [1691  344   78 1125    0    0    0  939    0    0]\n",
      " [1441  495   91 1118    0    0    0 1206    0    0]\n",
      " [ 549  997   34  975    0    0    0 1517    0    0]\n",
      " [ 835  785   62  896    0    0    0 1217    0    0]\n",
      " [1235  525   71 1068    0    0    0 1238    0    0]\n",
      " [ 411 1403   33  887    0    0    0 1667    0    0]\n",
      " [1632  259   86 1131    0    0    0  955    0    0]\n",
      " [ 589  911   53  954    0    0    0 1681    0    0]]\n",
      "[[2609   99   85  873    0    0    0  466    0    0]\n",
      " [  13 3974    0  103    0    0    0  594    0    0]\n",
      " [1691  345   78 1125    0    0    0  938    0    0]\n",
      " [1441  498   90 1119    0    0    0 1203    0    0]\n",
      " [ 549  998   34  975    0    0    0 1516    0    0]\n",
      " [ 835  785   62  896    0    0    0 1217    0    0]\n",
      " [1236  527   70 1067    0    0    0 1237    0    0]\n",
      " [ 411 1411   33  887    0    0    0 1659    0    0]\n",
      " [1634  259   84 1131    0    0    0  955    0    0]\n",
      " [ 589  912   53  954    0    0    0 1680    0    0]]\n",
      "Accuracy of Predicting Majority Class: 0.11152380952380953\n",
      "Accuracy of Logistic Regression Model (l1): 0.22480952380952382\n",
      "Accuracy of Logistic Regression Model (l2): 0.22473809523809524\n"
     ]
    }
   ],
   "source": [
    "# Accuracies logistic regression models and for predicting the majority class\n",
    "print('Accuracy of Predicting Majority Class: ' + str(majority_class_prediction_accuracy))\n",
    "print('Accuracy of Logistic Regression Model (l1): ' + str(accuracy_l1))\n",
    "print('Accuracy of Logistic Regression Model (l2): ' + str(accuracy_l2))\n",
    "\n",
    "# Confusion matrices for the regression models\n",
    "print(confusion_matrix_l1)\n",
    "print(confusion_matrix_l2)"
   ]
  }
 ],
 "metadata": {
  "interpreter": {
   "hash": "aee8b7b246df8f9039afb4144a1f6fd8d2ca17a180786b69acc140d282b71a49"
  },
  "kernelspec": {
   "display_name": "Python 3.9.7 64-bit",
   "language": "python",
   "name": "python3"
  },
  "language_info": {
   "codemirror_mode": {
    "name": "ipython",
    "version": 3
   },
   "file_extension": ".py",
   "mimetype": "text/x-python",
   "name": "python",
   "nbconvert_exporter": "python",
   "pygments_lexer": "ipython3",
   "version": "3.9.7"
  },
  "orig_nbformat": 4
 },
 "nbformat": 4,
 "nbformat_minor": 2
}
